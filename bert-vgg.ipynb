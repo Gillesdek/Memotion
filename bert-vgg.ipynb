{
 "cells": [
  {
   "cell_type": "markdown",
   "id": "3b07a28c",
   "metadata": {
    "_cell_guid": "8c2a2201-56c3-4a31-a53a-ecfd6efdda05",
    "_uuid": "22c22150-1e3a-418b-937b-f6e9fb69495f",
    "papermill": {
     "duration": 0.007464,
     "end_time": "2024-07-31T12:28:25.905416",
     "exception": false,
     "start_time": "2024-07-31T12:28:25.897952",
     "status": "completed"
    },
    "tags": []
   },
   "source": [
    "# Memotion BERT + VGG"
   ]
  },
  {
   "cell_type": "code",
   "execution_count": 1,
   "id": "91d1775f",
   "metadata": {
    "_cell_guid": "7c72602e-1680-4ad2-82f2-1fbc95fa9a84",
    "_uuid": "532c5eb2-6d76-4f00-8516-dd15bbdc1513",
    "collapsed": false,
    "execution": {
     "iopub.execute_input": "2024-07-31T12:28:25.920445Z",
     "iopub.status.busy": "2024-07-31T12:28:25.920112Z",
     "iopub.status.idle": "2024-07-31T12:28:34.923151Z",
     "shell.execute_reply": "2024-07-31T12:28:34.922330Z"
    },
    "jupyter": {
     "outputs_hidden": false
    },
    "papermill": {
     "duration": 9.013073,
     "end_time": "2024-07-31T12:28:34.925516",
     "exception": false,
     "start_time": "2024-07-31T12:28:25.912443",
     "status": "completed"
    },
    "tags": []
   },
   "outputs": [],
   "source": [
    "# The OG\n",
    "import os\n",
    "import pandas as pd\n",
    "import numpy as np\n",
    "from typing import Dict, Optional, Tuple\n",
    "\n",
    "# Torch\n",
    "import torch\n",
    "from torchvision import transforms, models\n",
    "from torch.utils.data import Dataset, DataLoader\n",
    "import torch.nn as nn\n",
    "import torch.optim as optim\n",
    "from torch.optim import lr_scheduler\n",
    "\n",
    "\n",
    "# Transformers\n",
    "from transformers import AutoModel, AutoTokenizer\n",
    "\n",
    "#PIL\n",
    "from PIL import Image,ImageFile\n",
    "\n",
    "# sklearn\n",
    "from sklearn.model_selection import train_test_split\n",
    "from sklearn.metrics import accuracy_score, precision_score, recall_score, f1_score, confusion_matrix, classification_report\n",
    "\n",
    "# Other\n",
    "from tqdm import tqdm\n",
    "\n",
    "from memotion_utility import load_data"
   ]
  },
  {
   "cell_type": "code",
   "execution_count": 2,
   "id": "bd8cdfd8",
   "metadata": {
    "_cell_guid": "f668b3e2-55fa-4b11-b87e-00009b2124f2",
    "_uuid": "934e345e-4e05-44b2-b400-5e6428a34fc5",
    "collapsed": false,
    "execution": {
     "iopub.execute_input": "2024-07-31T12:28:34.941335Z",
     "iopub.status.busy": "2024-07-31T12:28:34.940498Z",
     "iopub.status.idle": "2024-07-31T12:28:34.945854Z",
     "shell.execute_reply": "2024-07-31T12:28:34.945043Z"
    },
    "jupyter": {
     "outputs_hidden": false
    },
    "papermill": {
     "duration": 0.015088,
     "end_time": "2024-07-31T12:28:34.947737",
     "exception": false,
     "start_time": "2024-07-31T12:28:34.932649",
     "status": "completed"
    },
    "tags": []
   },
   "outputs": [],
   "source": [
    "ImageFile.LOAD_TRUNCATED_IMAGES = True\n",
    "CSV_FILE = '/kaggle/input/memotion-dataset-7k/memotion_dataset_7k/labels.csv'\n",
    "ROOT_DIR = '/kaggle/input/memotion-dataset-7k/memotion_dataset_7k/images'\n",
    "BATCH_SIZE = 16\n",
    "IMAGE_SIZE = (224, 224)\n",
    "num_epochs = 20\n",
    "IMAGE_MODEL_NAME = 'vgg19'\n",
    "TEXT_MODEL_NAME = 'bert-base-uncased'\n",
    "MAX_LEN = 128\n",
    "LR = 1e-06\n",
    "embedding_size = 768\n",
    "downsample = True"
   ]
  },
  {
   "cell_type": "markdown",
   "id": "0676ae26",
   "metadata": {
    "_cell_guid": "7e67408e-498f-4222-9f52-efdd24819538",
    "_uuid": "9d6daba9-76ce-4666-b29f-aa70e8f39f58",
    "papermill": {
     "duration": 0.00654,
     "end_time": "2024-07-31T12:28:34.961037",
     "exception": false,
     "start_time": "2024-07-31T12:28:34.954497",
     "status": "completed"
    },
    "tags": []
   },
   "source": [
    "## Dataset"
   ]
  },
  {
   "cell_type": "code",
   "execution_count": 3,
   "id": "478d519e",
   "metadata": {
    "_cell_guid": "75dc38bf-9ec8-40d1-909f-a8306991a826",
    "_uuid": "e2fd2e61-e289-48a1-9c43-6683be5358db",
    "collapsed": false,
    "execution": {
     "iopub.execute_input": "2024-07-31T12:28:34.975710Z",
     "iopub.status.busy": "2024-07-31T12:28:34.975463Z",
     "iopub.status.idle": "2024-07-31T12:28:34.979189Z",
     "shell.execute_reply": "2024-07-31T12:28:34.978395Z"
    },
    "jupyter": {
     "outputs_hidden": false
    },
    "papermill": {
     "duration": 0.013156,
     "end_time": "2024-07-31T12:28:34.981090",
     "exception": false,
     "start_time": "2024-07-31T12:28:34.967934",
     "status": "completed"
    },
    "tags": []
   },
   "outputs": [],
   "source": [
    "# def preprocess(df):\n",
    "#     df = df.drop('Unnamed: 0', axis=1)\n",
    "#     df = df.sample(frac=1).reset_index(drop=True)\n",
    "#     df['offensive'] = np.where(df['offensive'] == 'not_offensive', 'not_offensive', 'offensive')\n",
    "\n",
    "#     df['offensive'] = df['offensive'].map({\n",
    "#         'not_offensive': 0, \n",
    "#         'offensive': 1\n",
    "#     })\n",
    "#     return df"
   ]
  },
  {
   "cell_type": "code",
   "execution_count": 4,
   "id": "9ab1cae2",
   "metadata": {
    "_cell_guid": "d9a151f2-fcbe-4d50-91a1-040966027f2b",
    "_uuid": "3a835044-5b5c-4f43-ba36-b5c88e47ab17",
    "collapsed": false,
    "execution": {
     "iopub.execute_input": "2024-07-31T12:28:34.995638Z",
     "iopub.status.busy": "2024-07-31T12:28:34.995401Z",
     "iopub.status.idle": "2024-07-31T12:28:35.091553Z",
     "shell.execute_reply": "2024-07-31T12:28:35.090594Z"
    },
    "jupyter": {
     "outputs_hidden": false
    },
    "papermill": {
     "duration": 0.105757,
     "end_time": "2024-07-31T12:28:35.093639",
     "exception": false,
     "start_time": "2024-07-31T12:28:34.987882",
     "status": "completed"
    },
    "tags": []
   },
   "outputs": [
    {
     "data": {
      "text/html": [
       "<div>\n",
       "<style scoped>\n",
       "    .dataframe tbody tr th:only-of-type {\n",
       "        vertical-align: middle;\n",
       "    }\n",
       "\n",
       "    .dataframe tbody tr th {\n",
       "        vertical-align: top;\n",
       "    }\n",
       "\n",
       "    .dataframe thead th {\n",
       "        text-align: right;\n",
       "    }\n",
       "</style>\n",
       "<table border=\"1\" class=\"dataframe\">\n",
       "  <thead>\n",
       "    <tr style=\"text-align: right;\">\n",
       "      <th></th>\n",
       "      <th>Unnamed: 0</th>\n",
       "      <th>image_name</th>\n",
       "      <th>text_ocr</th>\n",
       "      <th>text_corrected</th>\n",
       "      <th>humour</th>\n",
       "      <th>sarcasm</th>\n",
       "      <th>offensive</th>\n",
       "      <th>motivational</th>\n",
       "      <th>overall_sentiment</th>\n",
       "    </tr>\n",
       "  </thead>\n",
       "  <tbody>\n",
       "    <tr>\n",
       "      <th>0</th>\n",
       "      <td>0</td>\n",
       "      <td>image_1.jpg</td>\n",
       "      <td>LOOK THERE MY FRIEND LIGHTYEAR NOW ALL SOHALIK...</td>\n",
       "      <td>LOOK THERE MY FRIEND LIGHTYEAR NOW ALL SOHALIK...</td>\n",
       "      <td>hilarious</td>\n",
       "      <td>general</td>\n",
       "      <td>not_offensive</td>\n",
       "      <td>not_motivational</td>\n",
       "      <td>very_positive</td>\n",
       "    </tr>\n",
       "    <tr>\n",
       "      <th>1</th>\n",
       "      <td>1</td>\n",
       "      <td>image_2.jpeg</td>\n",
       "      <td>The best of #10 YearChallenge! Completed in le...</td>\n",
       "      <td>The best of #10 YearChallenge! Completed in le...</td>\n",
       "      <td>not_funny</td>\n",
       "      <td>general</td>\n",
       "      <td>not_offensive</td>\n",
       "      <td>motivational</td>\n",
       "      <td>very_positive</td>\n",
       "    </tr>\n",
       "    <tr>\n",
       "      <th>2</th>\n",
       "      <td>2</td>\n",
       "      <td>image_3.JPG</td>\n",
       "      <td>Sam Thorne @Strippin ( Follow Follow Saw every...</td>\n",
       "      <td>Sam Thorne @Strippin ( Follow Follow Saw every...</td>\n",
       "      <td>very_funny</td>\n",
       "      <td>not_sarcastic</td>\n",
       "      <td>not_offensive</td>\n",
       "      <td>not_motivational</td>\n",
       "      <td>positive</td>\n",
       "    </tr>\n",
       "    <tr>\n",
       "      <th>3</th>\n",
       "      <td>3</td>\n",
       "      <td>image_4.png</td>\n",
       "      <td>10 Year Challenge - Sweet Dee Edition</td>\n",
       "      <td>10 Year Challenge - Sweet Dee Edition</td>\n",
       "      <td>very_funny</td>\n",
       "      <td>twisted_meaning</td>\n",
       "      <td>very_offensive</td>\n",
       "      <td>motivational</td>\n",
       "      <td>positive</td>\n",
       "    </tr>\n",
       "    <tr>\n",
       "      <th>4</th>\n",
       "      <td>4</td>\n",
       "      <td>image_5.png</td>\n",
       "      <td>10 YEAR CHALLENGE WITH NO FILTER 47 Hilarious ...</td>\n",
       "      <td>10 YEAR CHALLENGE WITH NO FILTER 47 Hilarious ...</td>\n",
       "      <td>hilarious</td>\n",
       "      <td>very_twisted</td>\n",
       "      <td>very_offensive</td>\n",
       "      <td>not_motivational</td>\n",
       "      <td>neutral</td>\n",
       "    </tr>\n",
       "    <tr>\n",
       "      <th>...</th>\n",
       "      <td>...</td>\n",
       "      <td>...</td>\n",
       "      <td>...</td>\n",
       "      <td>...</td>\n",
       "      <td>...</td>\n",
       "      <td>...</td>\n",
       "      <td>...</td>\n",
       "      <td>...</td>\n",
       "      <td>...</td>\n",
       "    </tr>\n",
       "    <tr>\n",
       "      <th>6987</th>\n",
       "      <td>6987</td>\n",
       "      <td>image_6988.jpg</td>\n",
       "      <td>Tuesday is Mardi Gras Wednesday is Valentine's...</td>\n",
       "      <td>Tuesday is Mardi Gras Wednesday is Valentine's...</td>\n",
       "      <td>very_funny</td>\n",
       "      <td>twisted_meaning</td>\n",
       "      <td>very_offensive</td>\n",
       "      <td>motivational</td>\n",
       "      <td>neutral</td>\n",
       "    </tr>\n",
       "    <tr>\n",
       "      <th>6988</th>\n",
       "      <td>6988</td>\n",
       "      <td>image_6989.jpg</td>\n",
       "      <td>MUST WATCH MOVIES OF 2017 ITI Chennai memes MA...</td>\n",
       "      <td>MUST WATCH MOVIES OF 2017 ITI Chennai memes MA...</td>\n",
       "      <td>funny</td>\n",
       "      <td>twisted_meaning</td>\n",
       "      <td>not_offensive</td>\n",
       "      <td>not_motivational</td>\n",
       "      <td>neutral</td>\n",
       "    </tr>\n",
       "    <tr>\n",
       "      <th>6989</th>\n",
       "      <td>6989</td>\n",
       "      <td>image_6990.png</td>\n",
       "      <td>LESS MORE TALKING PLANNING SODA JUNK FOOD COMP...</td>\n",
       "      <td>LESS MORE TALKING PLANNING SODA JUNK FOOD COMP...</td>\n",
       "      <td>funny</td>\n",
       "      <td>general</td>\n",
       "      <td>slight</td>\n",
       "      <td>not_motivational</td>\n",
       "      <td>positive</td>\n",
       "    </tr>\n",
       "    <tr>\n",
       "      <th>6990</th>\n",
       "      <td>6990</td>\n",
       "      <td>image_6991.jpg</td>\n",
       "      <td>When I VERY have time is a fantasy No one has ...</td>\n",
       "      <td>When I have time is a fantasy. no one has time...</td>\n",
       "      <td>not_funny</td>\n",
       "      <td>twisted_meaning</td>\n",
       "      <td>not_offensive</td>\n",
       "      <td>motivational</td>\n",
       "      <td>very_positive</td>\n",
       "    </tr>\n",
       "    <tr>\n",
       "      <th>6991</th>\n",
       "      <td>6991</td>\n",
       "      <td>image_6992.jpg</td>\n",
       "      <td>The starting point for every good idea is \"Wha...</td>\n",
       "      <td>The starting point for every good idea is \"Wha...</td>\n",
       "      <td>not_funny</td>\n",
       "      <td>not_sarcastic</td>\n",
       "      <td>not_offensive</td>\n",
       "      <td>motivational</td>\n",
       "      <td>positive</td>\n",
       "    </tr>\n",
       "  </tbody>\n",
       "</table>\n",
       "<p>6992 rows × 9 columns</p>\n",
       "</div>"
      ],
      "text/plain": [
       "      Unnamed: 0      image_name  \\\n",
       "0              0     image_1.jpg   \n",
       "1              1    image_2.jpeg   \n",
       "2              2     image_3.JPG   \n",
       "3              3     image_4.png   \n",
       "4              4     image_5.png   \n",
       "...          ...             ...   \n",
       "6987        6987  image_6988.jpg   \n",
       "6988        6988  image_6989.jpg   \n",
       "6989        6989  image_6990.png   \n",
       "6990        6990  image_6991.jpg   \n",
       "6991        6991  image_6992.jpg   \n",
       "\n",
       "                                               text_ocr  \\\n",
       "0     LOOK THERE MY FRIEND LIGHTYEAR NOW ALL SOHALIK...   \n",
       "1     The best of #10 YearChallenge! Completed in le...   \n",
       "2     Sam Thorne @Strippin ( Follow Follow Saw every...   \n",
       "3                 10 Year Challenge - Sweet Dee Edition   \n",
       "4     10 YEAR CHALLENGE WITH NO FILTER 47 Hilarious ...   \n",
       "...                                                 ...   \n",
       "6987  Tuesday is Mardi Gras Wednesday is Valentine's...   \n",
       "6988  MUST WATCH MOVIES OF 2017 ITI Chennai memes MA...   \n",
       "6989  LESS MORE TALKING PLANNING SODA JUNK FOOD COMP...   \n",
       "6990  When I VERY have time is a fantasy No one has ...   \n",
       "6991  The starting point for every good idea is \"Wha...   \n",
       "\n",
       "                                         text_corrected      humour  \\\n",
       "0     LOOK THERE MY FRIEND LIGHTYEAR NOW ALL SOHALIK...   hilarious   \n",
       "1     The best of #10 YearChallenge! Completed in le...   not_funny   \n",
       "2     Sam Thorne @Strippin ( Follow Follow Saw every...  very_funny   \n",
       "3                 10 Year Challenge - Sweet Dee Edition  very_funny   \n",
       "4     10 YEAR CHALLENGE WITH NO FILTER 47 Hilarious ...   hilarious   \n",
       "...                                                 ...         ...   \n",
       "6987  Tuesday is Mardi Gras Wednesday is Valentine's...  very_funny   \n",
       "6988  MUST WATCH MOVIES OF 2017 ITI Chennai memes MA...       funny   \n",
       "6989  LESS MORE TALKING PLANNING SODA JUNK FOOD COMP...       funny   \n",
       "6990  When I have time is a fantasy. no one has time...   not_funny   \n",
       "6991  The starting point for every good idea is \"Wha...   not_funny   \n",
       "\n",
       "              sarcasm       offensive      motivational overall_sentiment  \n",
       "0             general   not_offensive  not_motivational     very_positive  \n",
       "1             general   not_offensive      motivational     very_positive  \n",
       "2       not_sarcastic   not_offensive  not_motivational          positive  \n",
       "3     twisted_meaning  very_offensive      motivational          positive  \n",
       "4        very_twisted  very_offensive  not_motivational           neutral  \n",
       "...               ...             ...               ...               ...  \n",
       "6987  twisted_meaning  very_offensive      motivational           neutral  \n",
       "6988  twisted_meaning   not_offensive  not_motivational           neutral  \n",
       "6989          general          slight  not_motivational          positive  \n",
       "6990  twisted_meaning   not_offensive      motivational     very_positive  \n",
       "6991    not_sarcastic   not_offensive      motivational          positive  \n",
       "\n",
       "[6992 rows x 9 columns]"
      ]
     },
     "execution_count": 4,
     "metadata": {},
     "output_type": "execute_result"
    }
   ],
   "source": [
    "df = pd.read_csv(CSV_FILE)\n",
    "df"
   ]
  },
  {
   "cell_type": "code",
   "execution_count": 5,
   "id": "85e18207",
   "metadata": {
    "_cell_guid": "d10b8293-3878-4a2a-a252-8f1f6a721215",
    "_uuid": "028ee1e8-7956-4d11-8420-de3460700f8e",
    "collapsed": false,
    "execution": {
     "iopub.execute_input": "2024-07-31T12:28:35.109947Z",
     "iopub.status.busy": "2024-07-31T12:28:35.109674Z",
     "iopub.status.idle": "2024-07-31T12:28:35.113410Z",
     "shell.execute_reply": "2024-07-31T12:28:35.112631Z"
    },
    "jupyter": {
     "outputs_hidden": false
    },
    "papermill": {
     "duration": 0.014154,
     "end_time": "2024-07-31T12:28:35.115211",
     "exception": false,
     "start_time": "2024-07-31T12:28:35.101057",
     "status": "completed"
    },
    "tags": []
   },
   "outputs": [],
   "source": [
    "# df = preprocess(df)\n",
    "# df"
   ]
  },
  {
   "cell_type": "code",
   "execution_count": 6,
   "id": "df35382f",
   "metadata": {
    "execution": {
     "iopub.execute_input": "2024-07-31T12:28:35.130596Z",
     "iopub.status.busy": "2024-07-31T12:28:35.130316Z",
     "iopub.status.idle": "2024-07-31T12:28:35.207033Z",
     "shell.execute_reply": "2024-07-31T12:28:35.205790Z"
    },
    "papermill": {
     "duration": 0.086922,
     "end_time": "2024-07-31T12:28:35.209284",
     "exception": false,
     "start_time": "2024-07-31T12:28:35.122362",
     "status": "completed"
    },
    "tags": []
   },
   "outputs": [
    {
     "name": "stdout",
     "output_type": "stream",
     "text": [
      "train : \n",
      " label\n",
      "1    1953\n",
      "0    1953\n",
      "Name: count, dtype: int64\n",
      "val : \n",
      " label\n",
      "1    343\n",
      "0    217\n",
      "Name: count, dtype: int64\n",
      "test : \n",
      " label\n",
      "1    856\n",
      "0    543\n",
      "Name: count, dtype: int64\n"
     ]
    }
   ],
   "source": [
    "df_train,df_val,df_test = load_data(CSV_FILE,downsample = downsample)"
   ]
  },
  {
   "cell_type": "code",
   "execution_count": 7,
   "id": "43066533",
   "metadata": {
    "_cell_guid": "71e57a82-333f-41f5-a5d0-6d661f0c119b",
    "_uuid": "d28befdf-4b6c-4459-86ae-cb0f13830a2d",
    "collapsed": false,
    "execution": {
     "iopub.execute_input": "2024-07-31T12:28:35.225589Z",
     "iopub.status.busy": "2024-07-31T12:28:35.225282Z",
     "iopub.status.idle": "2024-07-31T12:28:35.234444Z",
     "shell.execute_reply": "2024-07-31T12:28:35.233733Z"
    },
    "jupyter": {
     "outputs_hidden": false
    },
    "papermill": {
     "duration": 0.019421,
     "end_time": "2024-07-31T12:28:35.236325",
     "exception": false,
     "start_time": "2024-07-31T12:28:35.216904",
     "status": "completed"
    },
    "tags": []
   },
   "outputs": [],
   "source": [
    "class MemeDataset(Dataset):\n",
    "    def __init__(self, dataframe, root_dir, transform=None):\n",
    "        self.df =  dataframe\n",
    "        self.root_dir = root_dir\n",
    "        self.tokenizer = AutoTokenizer.from_pretrained(TEXT_MODEL_NAME)\n",
    "        self.transform = transform\n",
    "\n",
    "    def __len__(self):\n",
    "        return len(self.df)\n",
    "\n",
    "    def __getitem__(self, idx):\n",
    "        \n",
    "        # Image\n",
    "        img_name = os.path.join(self.root_dir, self.df.iloc[idx]['image_name'])\n",
    "        image = Image.open(img_name).convert(\"RGB\")\n",
    "        if self.transform:\n",
    "            image = self.transform(image)\n",
    "            \n",
    "        # Text\n",
    "        text = str(self.df.iloc[idx]['text']).lower()\n",
    "        out = self.tokenizer(\n",
    "            text=text, \n",
    "            max_length=MAX_LEN,\n",
    "            padding='max_length',\n",
    "            truncation=True,\n",
    "            return_tensors=\"pt\"\n",
    "        )\n",
    "        # Label\n",
    "        label = self.df.iloc[idx]['label']\n",
    "        return  {\n",
    "            'image': image, \n",
    "            'input_ids': out['input_ids'].squeeze(),\n",
    "            'attention_mask': out['attention_mask'].squeeze(),\n",
    "            'label': torch.tensor(label, dtype=torch.long)\n",
    "        }"
   ]
  },
  {
   "cell_type": "code",
   "execution_count": 8,
   "id": "f3ce0662",
   "metadata": {
    "_cell_guid": "285971fb-2ae7-4d97-b44a-dbd26c312e29",
    "_uuid": "460152ee-ea5e-4a07-9089-bf4ec4b8d6a9",
    "collapsed": false,
    "execution": {
     "iopub.execute_input": "2024-07-31T12:28:35.252731Z",
     "iopub.status.busy": "2024-07-31T12:28:35.252483Z",
     "iopub.status.idle": "2024-07-31T12:28:35.258415Z",
     "shell.execute_reply": "2024-07-31T12:28:35.257564Z"
    },
    "jupyter": {
     "outputs_hidden": false
    },
    "papermill": {
     "duration": 0.016781,
     "end_time": "2024-07-31T12:28:35.260383",
     "exception": false,
     "start_time": "2024-07-31T12:28:35.243602",
     "status": "completed"
    },
    "tags": []
   },
   "outputs": [],
   "source": [
    "def load_dataloader(df,transform):\n",
    "    df_train,df_val,df_test = load_data(CSV_FILE,downsample = downsample)\n",
    "    \n",
    "    train_dataset = MemeDataset(df_train,ROOT_DIR,transform = transform)\n",
    "    val_dataset = MemeDataset(df_val,ROOT_DIR,transform = transform)\n",
    "    test_dataset = MemeDataset(df_test,ROOT_DIR,transform = transform)\n",
    "    \n",
    "    train_loader = DataLoader(train_dataset, batch_size=BATCH_SIZE, shuffle=True)\n",
    "    val_loader = DataLoader(val_dataset, batch_size=BATCH_SIZE, shuffle=True)\n",
    "    test_loader = DataLoader(test_dataset, batch_size=BATCH_SIZE, shuffle=False)\n",
    "    \n",
    "    return train_loader,val_loader,test_loader"
   ]
  },
  {
   "cell_type": "code",
   "execution_count": 9,
   "id": "e8647b0b",
   "metadata": {
    "_cell_guid": "5b2b1c71-58a9-4d65-967c-534e7fffecc6",
    "_uuid": "e3d84d99-9721-423e-890b-ac36e2f0b0f5",
    "collapsed": false,
    "execution": {
     "iopub.execute_input": "2024-07-31T12:28:35.275932Z",
     "iopub.status.busy": "2024-07-31T12:28:35.275669Z",
     "iopub.status.idle": "2024-07-31T12:28:36.849023Z",
     "shell.execute_reply": "2024-07-31T12:28:36.848027Z"
    },
    "jupyter": {
     "outputs_hidden": false
    },
    "papermill": {
     "duration": 1.584241,
     "end_time": "2024-07-31T12:28:36.851887",
     "exception": false,
     "start_time": "2024-07-31T12:28:35.267646",
     "status": "completed"
    },
    "tags": []
   },
   "outputs": [
    {
     "name": "stdout",
     "output_type": "stream",
     "text": [
      "train : \n",
      " label\n",
      "1    1953\n",
      "0    1953\n",
      "Name: count, dtype: int64\n",
      "val : \n",
      " label\n",
      "1    343\n",
      "0    217\n",
      "Name: count, dtype: int64\n",
      "test : \n",
      " label\n",
      "1    856\n",
      "0    543\n",
      "Name: count, dtype: int64\n"
     ]
    },
    {
     "data": {
      "application/vnd.jupyter.widget-view+json": {
       "model_id": "4663a75f6f274aa7a25153337c22b10b",
       "version_major": 2,
       "version_minor": 0
      },
      "text/plain": [
       "tokenizer_config.json:   0%|          | 0.00/48.0 [00:00<?, ?B/s]"
      ]
     },
     "metadata": {},
     "output_type": "display_data"
    },
    {
     "data": {
      "application/vnd.jupyter.widget-view+json": {
       "model_id": "ce73564c730b48618518cc7a83396cdc",
       "version_major": 2,
       "version_minor": 0
      },
      "text/plain": [
       "config.json:   0%|          | 0.00/570 [00:00<?, ?B/s]"
      ]
     },
     "metadata": {},
     "output_type": "display_data"
    },
    {
     "data": {
      "application/vnd.jupyter.widget-view+json": {
       "model_id": "03f7ad045fa8415eab7e8404930682ec",
       "version_major": 2,
       "version_minor": 0
      },
      "text/plain": [
       "vocab.txt:   0%|          | 0.00/232k [00:00<?, ?B/s]"
      ]
     },
     "metadata": {},
     "output_type": "display_data"
    },
    {
     "data": {
      "application/vnd.jupyter.widget-view+json": {
       "model_id": "756ea7e233eb4adc8e65b389d1ee894b",
       "version_major": 2,
       "version_minor": 0
      },
      "text/plain": [
       "tokenizer.json:   0%|          | 0.00/466k [00:00<?, ?B/s]"
      ]
     },
     "metadata": {},
     "output_type": "display_data"
    }
   ],
   "source": [
    "transform = transforms.Compose([\n",
    "    transforms.Resize(IMAGE_SIZE),\n",
    "    transforms.ToTensor(),\n",
    "    transforms.Normalize(mean=[0.485, 0.456, 0.406], std=[0.229, 0.224, 0.225]),\n",
    "])\n",
    "\n",
    "train_loader,val_loader,test_loader = load_dataloader(CSV_FILE,transform)"
   ]
  },
  {
   "cell_type": "markdown",
   "id": "19fe8d74",
   "metadata": {
    "_cell_guid": "2ec0aa61-9401-4abb-83a5-724422b04676",
    "_uuid": "2fd6dbbe-d9c9-4c47-8396-9330a76ab232",
    "papermill": {
     "duration": 0.00795,
     "end_time": "2024-07-31T12:28:36.871751",
     "exception": false,
     "start_time": "2024-07-31T12:28:36.863801",
     "status": "completed"
    },
    "tags": []
   },
   "source": [
    "## Model"
   ]
  },
  {
   "cell_type": "code",
   "execution_count": 10,
   "id": "387f5f84",
   "metadata": {
    "_cell_guid": "1554035e-a318-4561-81b8-294132dd0c8a",
    "_uuid": "a014739e-88be-4b1f-bbda-c9cd18fda7c7",
    "collapsed": false,
    "execution": {
     "iopub.execute_input": "2024-07-31T12:28:36.889455Z",
     "iopub.status.busy": "2024-07-31T12:28:36.889077Z",
     "iopub.status.idle": "2024-07-31T12:28:36.896623Z",
     "shell.execute_reply": "2024-07-31T12:28:36.895725Z"
    },
    "jupyter": {
     "outputs_hidden": false
    },
    "papermill": {
     "duration": 0.018974,
     "end_time": "2024-07-31T12:28:36.898867",
     "exception": false,
     "start_time": "2024-07-31T12:28:36.879893",
     "status": "completed"
    },
    "tags": []
   },
   "outputs": [],
   "source": [
    "class ImageEncoder(nn.Module):\n",
    "    def __init__(self, *args, **kwargs) -> None:\n",
    "        super().__init__(*args, **kwargs)\n",
    "        self.encoder = models.vgg19(pretrained=True)\n",
    "        self.encoder.classifier = nn.Sequential(*list(self.encoder.classifier.children())[:-1]) # remove last layer\n",
    "        #for param in self.encoder.parameters():\n",
    "            #param.requires_grad = False\n",
    "         \n",
    "    def forward(self, x: torch.Tensor) -> torch.Tensor:\n",
    "        x = self.encoder(x)\n",
    "        return x"
   ]
  },
  {
   "cell_type": "code",
   "execution_count": 11,
   "id": "a40fbf10",
   "metadata": {
    "_cell_guid": "0821b7d9-bfc9-4363-9a1d-1ca204a00a8e",
    "_uuid": "f74dcd8e-a314-4cd9-860d-2d639630318a",
    "collapsed": false,
    "execution": {
     "iopub.execute_input": "2024-07-31T12:28:36.918208Z",
     "iopub.status.busy": "2024-07-31T12:28:36.917568Z",
     "iopub.status.idle": "2024-07-31T12:28:36.924700Z",
     "shell.execute_reply": "2024-07-31T12:28:36.923833Z"
    },
    "jupyter": {
     "outputs_hidden": false
    },
    "papermill": {
     "duration": 0.018493,
     "end_time": "2024-07-31T12:28:36.926781",
     "exception": false,
     "start_time": "2024-07-31T12:28:36.908288",
     "status": "completed"
    },
    "tags": []
   },
   "outputs": [],
   "source": [
    "class TextEncoder(nn.Module):\n",
    "    def __init__(self, *args, **kwargs) -> None:\n",
    "        super().__init__(*args, **kwargs)\n",
    "        self.encoder = AutoModel.from_pretrained(TEXT_MODEL_NAME)  \n",
    "\n",
    "    def forward(\n",
    "        self, input_ids: torch.Tensor, attention_mask: torch.Tensor\n",
    "    ) -> torch.Tensor:\n",
    "        x = self.encoder.forward(input_ids=input_ids, attention_mask=attention_mask)\n",
    "        return x[\"pooler_output\"]"
   ]
  },
  {
   "cell_type": "code",
   "execution_count": 12,
   "id": "08842774",
   "metadata": {
    "_cell_guid": "859f7fa3-7ba0-4c05-9660-b689f311b670",
    "_uuid": "c6765920-dbc8-49b7-8b50-98fe23b817ef",
    "collapsed": false,
    "execution": {
     "iopub.execute_input": "2024-07-31T12:28:36.945502Z",
     "iopub.status.busy": "2024-07-31T12:28:36.944639Z",
     "iopub.status.idle": "2024-07-31T12:28:36.954471Z",
     "shell.execute_reply": "2024-07-31T12:28:36.953669Z"
    },
    "jupyter": {
     "outputs_hidden": false
    },
    "papermill": {
     "duration": 0.021366,
     "end_time": "2024-07-31T12:28:36.956387",
     "exception": false,
     "start_time": "2024-07-31T12:28:36.935021",
     "status": "completed"
    },
    "tags": []
   },
   "outputs": [],
   "source": [
    "class MemotionModel(nn.Module):\n",
    "    def __init__(self, *args, **kwargs) -> None:\n",
    "        super().__init__(*args, **kwargs)\n",
    "        self.image_encoder = ImageEncoder()\n",
    "        self.text_encoder = TextEncoder()\n",
    "        \n",
    "        self.fusion_embedding_size =  768 + 4096\n",
    "        \n",
    "        self.fc = nn.Linear(self.fusion_embedding_size, 2)\n",
    "\n",
    "        #self.fc1 = nn.Linear(768, 512)\n",
    "        #self.fc2 = nn.Linear(512, 128)\n",
    "        #self.fc3 = nn.Linear(128, 2)\n",
    "        #self.dropout = nn.Dropout(p=0.2)\n",
    "\n",
    "    def forward(\n",
    "        self, image: torch.Tensor, input_ids: torch.Tensor, attention_mask: torch.Tensor, label: Optional[torch.Tensor] = None,\n",
    "    ) -> torch.Tensor:\n",
    "        img_out = self.image_encoder.forward(image)\n",
    "        txt_out = self.text_encoder.forward(input_ids=input_ids, attention_mask=attention_mask)\n",
    "        #print(img_out.shape,txt_out.shape)\n",
    "        fused_features = torch.cat((txt_out, img_out),dim=1)  # Concatenation\n",
    "        predictions = self.fc(fused_features)\n",
    "        return predictions\n"
   ]
  },
  {
   "cell_type": "markdown",
   "id": "5868f054",
   "metadata": {
    "_cell_guid": "9c574fda-26e1-4dd5-bc3e-128bc33e81d4",
    "_uuid": "1513b194-cb08-4bbb-8541-67be5e662faf",
    "papermill": {
     "duration": 0.007855,
     "end_time": "2024-07-31T12:28:36.972506",
     "exception": false,
     "start_time": "2024-07-31T12:28:36.964651",
     "status": "completed"
    },
    "tags": []
   },
   "source": [
    "## Training"
   ]
  },
  {
   "cell_type": "code",
   "execution_count": 13,
   "id": "22c7245f",
   "metadata": {
    "_cell_guid": "abfcc8cf-b377-4b04-8ba1-9739597db658",
    "_uuid": "5cc534d7-097d-4087-9a6d-32d547289a86",
    "collapsed": false,
    "execution": {
     "iopub.execute_input": "2024-07-31T12:28:36.989859Z",
     "iopub.status.busy": "2024-07-31T12:28:36.989540Z",
     "iopub.status.idle": "2024-07-31T12:28:45.736547Z",
     "shell.execute_reply": "2024-07-31T12:28:45.735558Z"
    },
    "jupyter": {
     "outputs_hidden": false
    },
    "papermill": {
     "duration": 8.758422,
     "end_time": "2024-07-31T12:28:45.738921",
     "exception": false,
     "start_time": "2024-07-31T12:28:36.980499",
     "status": "completed"
    },
    "tags": []
   },
   "outputs": [
    {
     "name": "stderr",
     "output_type": "stream",
     "text": [
      "/opt/conda/lib/python3.10/site-packages/torchvision/models/_utils.py:208: UserWarning: The parameter 'pretrained' is deprecated since 0.13 and may be removed in the future, please use 'weights' instead.\n",
      "  warnings.warn(\n",
      "/opt/conda/lib/python3.10/site-packages/torchvision/models/_utils.py:223: UserWarning: Arguments other than a weight enum or `None` for 'weights' are deprecated since 0.13 and may be removed in the future. The current behavior is equivalent to passing `weights=VGG19_Weights.IMAGENET1K_V1`. You can also use `weights=VGG19_Weights.DEFAULT` to get the most up-to-date weights.\n",
      "  warnings.warn(msg)\n",
      "Downloading: \"https://download.pytorch.org/models/vgg19-dcbb9e9d.pth\" to /root/.cache/torch/hub/checkpoints/vgg19-dcbb9e9d.pth\n",
      "100%|██████████| 548M/548M [00:03<00:00, 169MB/s]\n"
     ]
    },
    {
     "data": {
      "application/vnd.jupyter.widget-view+json": {
       "model_id": "ddec556202c2481899c6f98362c8b36d",
       "version_major": 2,
       "version_minor": 0
      },
      "text/plain": [
       "model.safetensors:   0%|          | 0.00/440M [00:00<?, ?B/s]"
      ]
     },
     "metadata": {},
     "output_type": "display_data"
    }
   ],
   "source": [
    "device = torch.device(\"cuda\" if torch.cuda.is_available() else \"cpu\")\n",
    "model = MemotionModel().to(device)\n",
    "criterion = nn.CrossEntropyLoss()\n",
    "\n",
    "optimizer = optim.Adam(\n",
    "            model.parameters(),\n",
    "            lr=LR\n",
    "        )\n",
    "\n",
    "# scheduler = lr_scheduler.CosineAnnealingLR(optimizer=optimizer, T_max=int(30000/32*10)+50, eta_min=1e-6)\n",
    "scheduler = None"
   ]
  },
  {
   "cell_type": "code",
   "execution_count": 14,
   "id": "6eec2915",
   "metadata": {
    "execution": {
     "iopub.execute_input": "2024-07-31T12:28:45.763777Z",
     "iopub.status.busy": "2024-07-31T12:28:45.763411Z",
     "iopub.status.idle": "2024-07-31T13:00:14.462596Z",
     "shell.execute_reply": "2024-07-31T13:00:14.461589Z"
    },
    "papermill": {
     "duration": 1888.714003,
     "end_time": "2024-07-31T13:00:14.464631",
     "exception": false,
     "start_time": "2024-07-31T12:28:45.750628",
     "status": "completed"
    },
    "tags": []
   },
   "outputs": [
    {
     "name": "stderr",
     "output_type": "stream",
     "text": [
      "(train) :  81%|████████  | 199/245 [01:14<00:16,  2.87it/s]/opt/conda/lib/python3.10/site-packages/PIL/Image.py:992: UserWarning: Palette images with Transparency expressed in bytes should be converted to RGBA images\n",
      "  warnings.warn(\n",
      "(train) : 100%|██████████| 245/245 [01:31<00:00,  2.68it/s]\n"
     ]
    },
    {
     "name": "stdout",
     "output_type": "stream",
     "text": [
      "Epoch [1/20], Loss: 0.7262\n"
     ]
    },
    {
     "name": "stderr",
     "output_type": "stream",
     "text": [
      "(valid) : 100%|██████████| 35/35 [00:12<00:00,  2.86it/s]\n"
     ]
    },
    {
     "name": "stdout",
     "output_type": "stream",
     "text": [
      "Accuracy: 47.14%\n",
      "Precision: 0.49\n",
      "Recall: 0.49\n",
      "F1 Score: 0.47\n",
      "Confusion Matrix:\n",
      "[[128  89]\n",
      " [207 136]]\n",
      "Classification Report:\n",
      "               precision    recall  f1-score   support\n",
      "\n",
      "Not Offensive       0.38      0.59      0.46       217\n",
      "    Offensive       0.60      0.40      0.48       343\n",
      "\n",
      "     accuracy                           0.47       560\n",
      "    macro avg       0.49      0.49      0.47       560\n",
      " weighted avg       0.52      0.47      0.47       560\n",
      "\n"
     ]
    },
    {
     "name": "stderr",
     "output_type": "stream",
     "text": [
      "(train) :  13%|█▎        | 33/245 [00:11<01:13,  2.87it/s]/opt/conda/lib/python3.10/site-packages/PIL/Image.py:992: UserWarning: Palette images with Transparency expressed in bytes should be converted to RGBA images\n",
      "  warnings.warn(\n",
      "(train) : 100%|██████████| 245/245 [01:25<00:00,  2.87it/s]\n"
     ]
    },
    {
     "name": "stdout",
     "output_type": "stream",
     "text": [
      "Epoch [2/20], Loss: 0.7059\n"
     ]
    },
    {
     "name": "stderr",
     "output_type": "stream",
     "text": [
      "(valid) : 100%|██████████| 35/35 [00:08<00:00,  4.02it/s]\n"
     ]
    },
    {
     "name": "stdout",
     "output_type": "stream",
     "text": [
      "Accuracy: 44.46%\n",
      "Precision: 0.48\n",
      "Recall: 0.48\n",
      "F1 Score: 0.44\n",
      "Confusion Matrix:\n",
      "[[134  83]\n",
      " [228 115]]\n",
      "Classification Report:\n",
      "               precision    recall  f1-score   support\n",
      "\n",
      "Not Offensive       0.37      0.62      0.46       217\n",
      "    Offensive       0.58      0.34      0.43       343\n",
      "\n",
      "     accuracy                           0.44       560\n",
      "    macro avg       0.48      0.48      0.44       560\n",
      " weighted avg       0.50      0.44      0.44       560\n",
      "\n"
     ]
    },
    {
     "name": "stderr",
     "output_type": "stream",
     "text": [
      "(train) :  89%|████████▊ | 217/245 [01:15<00:09,  2.88it/s]/opt/conda/lib/python3.10/site-packages/PIL/Image.py:992: UserWarning: Palette images with Transparency expressed in bytes should be converted to RGBA images\n",
      "  warnings.warn(\n",
      "(train) : 100%|██████████| 245/245 [01:25<00:00,  2.88it/s]\n"
     ]
    },
    {
     "name": "stdout",
     "output_type": "stream",
     "text": [
      "Epoch [3/20], Loss: 0.6937\n"
     ]
    },
    {
     "name": "stderr",
     "output_type": "stream",
     "text": [
      "(valid) : 100%|██████████| 35/35 [00:08<00:00,  4.02it/s]\n"
     ]
    },
    {
     "name": "stdout",
     "output_type": "stream",
     "text": [
      "Accuracy: 48.93%\n",
      "Precision: 0.49\n",
      "Recall: 0.49\n",
      "F1 Score: 0.48\n",
      "Confusion Matrix:\n",
      "[[110 107]\n",
      " [179 164]]\n",
      "Classification Report:\n",
      "               precision    recall  f1-score   support\n",
      "\n",
      "Not Offensive       0.38      0.51      0.43       217\n",
      "    Offensive       0.61      0.48      0.53       343\n",
      "\n",
      "     accuracy                           0.49       560\n",
      "    macro avg       0.49      0.49      0.48       560\n",
      " weighted avg       0.52      0.49      0.50       560\n",
      "\n"
     ]
    },
    {
     "name": "stderr",
     "output_type": "stream",
     "text": [
      "(train) :  32%|███▏      | 79/245 [00:27<00:57,  2.88it/s]/opt/conda/lib/python3.10/site-packages/PIL/Image.py:992: UserWarning: Palette images with Transparency expressed in bytes should be converted to RGBA images\n",
      "  warnings.warn(\n",
      "(train) : 100%|██████████| 245/245 [01:25<00:00,  2.87it/s]\n"
     ]
    },
    {
     "name": "stdout",
     "output_type": "stream",
     "text": [
      "Epoch [4/20], Loss: 0.6868\n"
     ]
    },
    {
     "name": "stderr",
     "output_type": "stream",
     "text": [
      "(valid) : 100%|██████████| 35/35 [00:08<00:00,  3.97it/s]\n"
     ]
    },
    {
     "name": "stdout",
     "output_type": "stream",
     "text": [
      "Accuracy: 50.71%\n",
      "Precision: 0.50\n",
      "Recall: 0.50\n",
      "F1 Score: 0.50\n",
      "Confusion Matrix:\n",
      "[[104 113]\n",
      " [163 180]]\n",
      "Classification Report:\n",
      "               precision    recall  f1-score   support\n",
      "\n",
      "Not Offensive       0.39      0.48      0.43       217\n",
      "    Offensive       0.61      0.52      0.57       343\n",
      "\n",
      "     accuracy                           0.51       560\n",
      "    macro avg       0.50      0.50      0.50       560\n",
      " weighted avg       0.53      0.51      0.51       560\n",
      "\n"
     ]
    },
    {
     "name": "stderr",
     "output_type": "stream",
     "text": [
      "(train) :  66%|██████▌   | 161/245 [00:55<00:29,  2.88it/s]/opt/conda/lib/python3.10/site-packages/PIL/Image.py:992: UserWarning: Palette images with Transparency expressed in bytes should be converted to RGBA images\n",
      "  warnings.warn(\n",
      "(train) : 100%|██████████| 245/245 [01:25<00:00,  2.88it/s]\n"
     ]
    },
    {
     "name": "stdout",
     "output_type": "stream",
     "text": [
      "Epoch [5/20], Loss: 0.6786\n"
     ]
    },
    {
     "name": "stderr",
     "output_type": "stream",
     "text": [
      "(valid) : 100%|██████████| 35/35 [00:08<00:00,  4.06it/s]\n"
     ]
    },
    {
     "name": "stdout",
     "output_type": "stream",
     "text": [
      "Accuracy: 50.36%\n",
      "Precision: 0.50\n",
      "Recall: 0.50\n",
      "F1 Score: 0.50\n",
      "Confusion Matrix:\n",
      "[[106 111]\n",
      " [167 176]]\n",
      "Classification Report:\n",
      "               precision    recall  f1-score   support\n",
      "\n",
      "Not Offensive       0.39      0.49      0.43       217\n",
      "    Offensive       0.61      0.51      0.56       343\n",
      "\n",
      "     accuracy                           0.50       560\n",
      "    macro avg       0.50      0.50      0.50       560\n",
      " weighted avg       0.53      0.50      0.51       560\n",
      "\n"
     ]
    },
    {
     "name": "stderr",
     "output_type": "stream",
     "text": [
      "(train) :  32%|███▏      | 78/245 [00:27<00:58,  2.87it/s]/opt/conda/lib/python3.10/site-packages/PIL/Image.py:992: UserWarning: Palette images with Transparency expressed in bytes should be converted to RGBA images\n",
      "  warnings.warn(\n",
      "(train) : 100%|██████████| 245/245 [01:25<00:00,  2.88it/s]\n"
     ]
    },
    {
     "name": "stdout",
     "output_type": "stream",
     "text": [
      "Epoch [6/20], Loss: 0.6665\n"
     ]
    },
    {
     "name": "stderr",
     "output_type": "stream",
     "text": [
      "(valid) : 100%|██████████| 35/35 [00:08<00:00,  3.93it/s]\n"
     ]
    },
    {
     "name": "stdout",
     "output_type": "stream",
     "text": [
      "Accuracy: 47.50%\n",
      "Precision: 0.50\n",
      "Recall: 0.50\n",
      "F1 Score: 0.47\n",
      "Confusion Matrix:\n",
      "[[131  86]\n",
      " [208 135]]\n",
      "Classification Report:\n",
      "               precision    recall  f1-score   support\n",
      "\n",
      "Not Offensive       0.39      0.60      0.47       217\n",
      "    Offensive       0.61      0.39      0.48       343\n",
      "\n",
      "     accuracy                           0.48       560\n",
      "    macro avg       0.50      0.50      0.47       560\n",
      " weighted avg       0.52      0.47      0.48       560\n",
      "\n"
     ]
    },
    {
     "name": "stderr",
     "output_type": "stream",
     "text": [
      "(train) :  56%|█████▌    | 136/245 [00:47<00:37,  2.88it/s]/opt/conda/lib/python3.10/site-packages/PIL/Image.py:992: UserWarning: Palette images with Transparency expressed in bytes should be converted to RGBA images\n",
      "  warnings.warn(\n",
      "(train) : 100%|██████████| 245/245 [01:25<00:00,  2.88it/s]\n"
     ]
    },
    {
     "name": "stdout",
     "output_type": "stream",
     "text": [
      "Epoch [7/20], Loss: 0.6589\n"
     ]
    },
    {
     "name": "stderr",
     "output_type": "stream",
     "text": [
      "(valid) : 100%|██████████| 35/35 [00:08<00:00,  4.03it/s]\n"
     ]
    },
    {
     "name": "stdout",
     "output_type": "stream",
     "text": [
      "Accuracy: 49.29%\n",
      "Precision: 0.50\n",
      "Recall: 0.50\n",
      "F1 Score: 0.49\n",
      "Confusion Matrix:\n",
      "[[113 104]\n",
      " [180 163]]\n",
      "Classification Report:\n",
      "               precision    recall  f1-score   support\n",
      "\n",
      "Not Offensive       0.39      0.52      0.44       217\n",
      "    Offensive       0.61      0.48      0.53       343\n",
      "\n",
      "     accuracy                           0.49       560\n",
      "    macro avg       0.50      0.50      0.49       560\n",
      " weighted avg       0.52      0.49      0.50       560\n",
      "\n"
     ]
    },
    {
     "name": "stderr",
     "output_type": "stream",
     "text": [
      "(train) :  45%|████▌     | 111/245 [00:38<00:46,  2.88it/s]/opt/conda/lib/python3.10/site-packages/PIL/Image.py:992: UserWarning: Palette images with Transparency expressed in bytes should be converted to RGBA images\n",
      "  warnings.warn(\n",
      "(train) : 100%|██████████| 245/245 [01:25<00:00,  2.88it/s]\n"
     ]
    },
    {
     "name": "stdout",
     "output_type": "stream",
     "text": [
      "Epoch [8/20], Loss: 0.6499\n"
     ]
    },
    {
     "name": "stderr",
     "output_type": "stream",
     "text": [
      "(valid) : 100%|██████████| 35/35 [00:08<00:00,  4.02it/s]\n"
     ]
    },
    {
     "name": "stdout",
     "output_type": "stream",
     "text": [
      "Accuracy: 48.04%\n",
      "Precision: 0.50\n",
      "Recall: 0.50\n",
      "F1 Score: 0.48\n",
      "Confusion Matrix:\n",
      "[[133  84]\n",
      " [207 136]]\n",
      "Classification Report:\n",
      "               precision    recall  f1-score   support\n",
      "\n",
      "Not Offensive       0.39      0.61      0.48       217\n",
      "    Offensive       0.62      0.40      0.48       343\n",
      "\n",
      "     accuracy                           0.48       560\n",
      "    macro avg       0.50      0.50      0.48       560\n",
      " weighted avg       0.53      0.48      0.48       560\n",
      "\n"
     ]
    },
    {
     "name": "stderr",
     "output_type": "stream",
     "text": [
      "(train) :  57%|█████▋    | 140/245 [00:48<00:36,  2.88it/s]/opt/conda/lib/python3.10/site-packages/PIL/Image.py:992: UserWarning: Palette images with Transparency expressed in bytes should be converted to RGBA images\n",
      "  warnings.warn(\n",
      "(train) : 100%|██████████| 245/245 [01:25<00:00,  2.88it/s]\n"
     ]
    },
    {
     "name": "stdout",
     "output_type": "stream",
     "text": [
      "Epoch [9/20], Loss: 0.6336\n"
     ]
    },
    {
     "name": "stderr",
     "output_type": "stream",
     "text": [
      "(valid) : 100%|██████████| 35/35 [00:08<00:00,  4.00it/s]\n"
     ]
    },
    {
     "name": "stdout",
     "output_type": "stream",
     "text": [
      "Accuracy: 51.61%\n",
      "Precision: 0.53\n",
      "Recall: 0.53\n",
      "F1 Score: 0.51\n",
      "Confusion Matrix:\n",
      "[[127  90]\n",
      " [181 162]]\n",
      "Classification Report:\n",
      "               precision    recall  f1-score   support\n",
      "\n",
      "Not Offensive       0.41      0.59      0.48       217\n",
      "    Offensive       0.64      0.47      0.54       343\n",
      "\n",
      "     accuracy                           0.52       560\n",
      "    macro avg       0.53      0.53      0.51       560\n",
      " weighted avg       0.55      0.52      0.52       560\n",
      "\n"
     ]
    },
    {
     "name": "stderr",
     "output_type": "stream",
     "text": [
      "(train) :  16%|█▌        | 38/245 [00:13<01:11,  2.88it/s]/opt/conda/lib/python3.10/site-packages/PIL/Image.py:992: UserWarning: Palette images with Transparency expressed in bytes should be converted to RGBA images\n",
      "  warnings.warn(\n",
      "(train) : 100%|██████████| 245/245 [01:25<00:00,  2.88it/s]\n"
     ]
    },
    {
     "name": "stdout",
     "output_type": "stream",
     "text": [
      "Epoch [10/20], Loss: 0.6178\n"
     ]
    },
    {
     "name": "stderr",
     "output_type": "stream",
     "text": [
      "(valid) : 100%|██████████| 35/35 [00:08<00:00,  4.01it/s]\n"
     ]
    },
    {
     "name": "stdout",
     "output_type": "stream",
     "text": [
      "Accuracy: 52.32%\n",
      "Precision: 0.52\n",
      "Recall: 0.52\n",
      "F1 Score: 0.51\n",
      "Confusion Matrix:\n",
      "[[107 110]\n",
      " [157 186]]\n",
      "Classification Report:\n",
      "               precision    recall  f1-score   support\n",
      "\n",
      "Not Offensive       0.41      0.49      0.44       217\n",
      "    Offensive       0.63      0.54      0.58       343\n",
      "\n",
      "     accuracy                           0.52       560\n",
      "    macro avg       0.52      0.52      0.51       560\n",
      " weighted avg       0.54      0.52      0.53       560\n",
      "\n"
     ]
    },
    {
     "name": "stderr",
     "output_type": "stream",
     "text": [
      "(train) :  83%|████████▎ | 204/245 [01:10<00:14,  2.87it/s]/opt/conda/lib/python3.10/site-packages/PIL/Image.py:992: UserWarning: Palette images with Transparency expressed in bytes should be converted to RGBA images\n",
      "  warnings.warn(\n",
      "(train) : 100%|██████████| 245/245 [01:25<00:00,  2.88it/s]\n"
     ]
    },
    {
     "name": "stdout",
     "output_type": "stream",
     "text": [
      "Epoch [11/20], Loss: 0.6045\n"
     ]
    },
    {
     "name": "stderr",
     "output_type": "stream",
     "text": [
      "(valid) : 100%|██████████| 35/35 [00:08<00:00,  3.99it/s]\n"
     ]
    },
    {
     "name": "stdout",
     "output_type": "stream",
     "text": [
      "Accuracy: 52.68%\n",
      "Precision: 0.51\n",
      "Recall: 0.51\n",
      "F1 Score: 0.51\n",
      "Confusion Matrix:\n",
      "[[ 96 121]\n",
      " [144 199]]\n",
      "Classification Report:\n",
      "               precision    recall  f1-score   support\n",
      "\n",
      "Not Offensive       0.40      0.44      0.42       217\n",
      "    Offensive       0.62      0.58      0.60       343\n",
      "\n",
      "     accuracy                           0.53       560\n",
      "    macro avg       0.51      0.51      0.51       560\n",
      " weighted avg       0.54      0.53      0.53       560\n",
      "\n"
     ]
    },
    {
     "name": "stderr",
     "output_type": "stream",
     "text": [
      "(train) :  61%|██████    | 150/245 [00:52<00:33,  2.88it/s]/opt/conda/lib/python3.10/site-packages/PIL/Image.py:992: UserWarning: Palette images with Transparency expressed in bytes should be converted to RGBA images\n",
      "  warnings.warn(\n",
      "(train) : 100%|██████████| 245/245 [01:25<00:00,  2.88it/s]\n"
     ]
    },
    {
     "name": "stdout",
     "output_type": "stream",
     "text": [
      "Epoch [12/20], Loss: 0.5849\n"
     ]
    },
    {
     "name": "stderr",
     "output_type": "stream",
     "text": [
      "(valid) : 100%|██████████| 35/35 [00:08<00:00,  4.04it/s]\n"
     ]
    },
    {
     "name": "stdout",
     "output_type": "stream",
     "text": [
      "Accuracy: 50.89%\n",
      "Precision: 0.51\n",
      "Recall: 0.51\n",
      "F1 Score: 0.50\n",
      "Confusion Matrix:\n",
      "[[114 103]\n",
      " [172 171]]\n",
      "Classification Report:\n",
      "               precision    recall  f1-score   support\n",
      "\n",
      "Not Offensive       0.40      0.53      0.45       217\n",
      "    Offensive       0.62      0.50      0.55       343\n",
      "\n",
      "     accuracy                           0.51       560\n",
      "    macro avg       0.51      0.51      0.50       560\n",
      " weighted avg       0.54      0.51      0.52       560\n",
      "\n"
     ]
    },
    {
     "name": "stderr",
     "output_type": "stream",
     "text": [
      "(train) :  16%|█▌        | 39/245 [00:13<01:11,  2.88it/s]/opt/conda/lib/python3.10/site-packages/PIL/Image.py:992: UserWarning: Palette images with Transparency expressed in bytes should be converted to RGBA images\n",
      "  warnings.warn(\n",
      "(train) : 100%|██████████| 245/245 [01:25<00:00,  2.88it/s]\n"
     ]
    },
    {
     "name": "stdout",
     "output_type": "stream",
     "text": [
      "Epoch [13/20], Loss: 0.5625\n"
     ]
    },
    {
     "name": "stderr",
     "output_type": "stream",
     "text": [
      "(valid) : 100%|██████████| 35/35 [00:08<00:00,  3.99it/s]\n"
     ]
    },
    {
     "name": "stdout",
     "output_type": "stream",
     "text": [
      "Accuracy: 51.61%\n",
      "Precision: 0.51\n",
      "Recall: 0.51\n",
      "F1 Score: 0.50\n",
      "Confusion Matrix:\n",
      "[[102 115]\n",
      " [156 187]]\n",
      "Classification Report:\n",
      "               precision    recall  f1-score   support\n",
      "\n",
      "Not Offensive       0.40      0.47      0.43       217\n",
      "    Offensive       0.62      0.55      0.58       343\n",
      "\n",
      "     accuracy                           0.52       560\n",
      "    macro avg       0.51      0.51      0.50       560\n",
      " weighted avg       0.53      0.52      0.52       560\n",
      "\n"
     ]
    },
    {
     "name": "stderr",
     "output_type": "stream",
     "text": [
      "(train) :  74%|███████▍  | 182/245 [01:03<00:21,  2.88it/s]/opt/conda/lib/python3.10/site-packages/PIL/Image.py:992: UserWarning: Palette images with Transparency expressed in bytes should be converted to RGBA images\n",
      "  warnings.warn(\n",
      "(train) : 100%|██████████| 245/245 [01:25<00:00,  2.88it/s]\n"
     ]
    },
    {
     "name": "stdout",
     "output_type": "stream",
     "text": [
      "Epoch [14/20], Loss: 0.5404\n"
     ]
    },
    {
     "name": "stderr",
     "output_type": "stream",
     "text": [
      "(valid) : 100%|██████████| 35/35 [00:08<00:00,  4.07it/s]\n"
     ]
    },
    {
     "name": "stdout",
     "output_type": "stream",
     "text": [
      "Accuracy: 52.14%\n",
      "Precision: 0.50\n",
      "Recall: 0.50\n",
      "F1 Score: 0.50\n",
      "Confusion Matrix:\n",
      "[[ 83 134]\n",
      " [134 209]]\n",
      "Classification Report:\n",
      "               precision    recall  f1-score   support\n",
      "\n",
      "Not Offensive       0.38      0.38      0.38       217\n",
      "    Offensive       0.61      0.61      0.61       343\n",
      "\n",
      "     accuracy                           0.52       560\n",
      "    macro avg       0.50      0.50      0.50       560\n",
      " weighted avg       0.52      0.52      0.52       560\n",
      "\n"
     ]
    },
    {
     "name": "stderr",
     "output_type": "stream",
     "text": [
      "(train) :  73%|███████▎  | 178/245 [01:01<00:23,  2.88it/s]/opt/conda/lib/python3.10/site-packages/PIL/Image.py:992: UserWarning: Palette images with Transparency expressed in bytes should be converted to RGBA images\n",
      "  warnings.warn(\n",
      "(train) : 100%|██████████| 245/245 [01:25<00:00,  2.87it/s]\n"
     ]
    },
    {
     "name": "stdout",
     "output_type": "stream",
     "text": [
      "Epoch [15/20], Loss: 0.5112\n"
     ]
    },
    {
     "name": "stderr",
     "output_type": "stream",
     "text": [
      "(valid) : 100%|██████████| 35/35 [00:08<00:00,  4.04it/s]\n"
     ]
    },
    {
     "name": "stdout",
     "output_type": "stream",
     "text": [
      "Accuracy: 50.71%\n",
      "Precision: 0.50\n",
      "Recall: 0.50\n",
      "F1 Score: 0.50\n",
      "Confusion Matrix:\n",
      "[[104 113]\n",
      " [163 180]]\n",
      "Classification Report:\n",
      "               precision    recall  f1-score   support\n",
      "\n",
      "Not Offensive       0.39      0.48      0.43       217\n",
      "    Offensive       0.61      0.52      0.57       343\n",
      "\n",
      "     accuracy                           0.51       560\n",
      "    macro avg       0.50      0.50      0.50       560\n",
      " weighted avg       0.53      0.51      0.51       560\n",
      "\n"
     ]
    },
    {
     "name": "stderr",
     "output_type": "stream",
     "text": [
      "(train) :  91%|█████████ | 222/245 [01:17<00:07,  2.88it/s]/opt/conda/lib/python3.10/site-packages/PIL/Image.py:992: UserWarning: Palette images with Transparency expressed in bytes should be converted to RGBA images\n",
      "  warnings.warn(\n",
      "(train) : 100%|██████████| 245/245 [01:25<00:00,  2.88it/s]\n"
     ]
    },
    {
     "name": "stdout",
     "output_type": "stream",
     "text": [
      "Epoch [16/20], Loss: 0.4833\n"
     ]
    },
    {
     "name": "stderr",
     "output_type": "stream",
     "text": [
      "(valid) : 100%|██████████| 35/35 [00:08<00:00,  4.03it/s]\n"
     ]
    },
    {
     "name": "stdout",
     "output_type": "stream",
     "text": [
      "Accuracy: 49.11%\n",
      "Precision: 0.49\n",
      "Recall: 0.49\n",
      "F1 Score: 0.49\n",
      "Confusion Matrix:\n",
      "[[110 107]\n",
      " [178 165]]\n",
      "Classification Report:\n",
      "               precision    recall  f1-score   support\n",
      "\n",
      "Not Offensive       0.38      0.51      0.44       217\n",
      "    Offensive       0.61      0.48      0.54       343\n",
      "\n",
      "     accuracy                           0.49       560\n",
      "    macro avg       0.49      0.49      0.49       560\n",
      " weighted avg       0.52      0.49      0.50       560\n",
      "\n"
     ]
    },
    {
     "name": "stderr",
     "output_type": "stream",
     "text": [
      "(train) :  97%|█████████▋| 238/245 [01:22<00:02,  2.88it/s]/opt/conda/lib/python3.10/site-packages/PIL/Image.py:992: UserWarning: Palette images with Transparency expressed in bytes should be converted to RGBA images\n",
      "  warnings.warn(\n",
      "(train) : 100%|██████████| 245/245 [01:25<00:00,  2.88it/s]\n"
     ]
    },
    {
     "name": "stdout",
     "output_type": "stream",
     "text": [
      "Epoch [17/20], Loss: 0.4606\n"
     ]
    },
    {
     "name": "stderr",
     "output_type": "stream",
     "text": [
      "(valid) : 100%|██████████| 35/35 [00:08<00:00,  4.06it/s]\n"
     ]
    },
    {
     "name": "stdout",
     "output_type": "stream",
     "text": [
      "Accuracy: 48.75%\n",
      "Precision: 0.49\n",
      "Recall: 0.49\n",
      "F1 Score: 0.48\n",
      "Confusion Matrix:\n",
      "[[103 114]\n",
      " [173 170]]\n",
      "Classification Report:\n",
      "               precision    recall  f1-score   support\n",
      "\n",
      "Not Offensive       0.37      0.47      0.42       217\n",
      "    Offensive       0.60      0.50      0.54       343\n",
      "\n",
      "     accuracy                           0.49       560\n",
      "    macro avg       0.49      0.49      0.48       560\n",
      " weighted avg       0.51      0.49      0.49       560\n",
      "\n"
     ]
    },
    {
     "name": "stderr",
     "output_type": "stream",
     "text": [
      "(train) :  40%|████      | 99/245 [00:34<00:50,  2.88it/s]/opt/conda/lib/python3.10/site-packages/PIL/Image.py:992: UserWarning: Palette images with Transparency expressed in bytes should be converted to RGBA images\n",
      "  warnings.warn(\n",
      "(train) : 100%|██████████| 245/245 [01:25<00:00,  2.87it/s]\n"
     ]
    },
    {
     "name": "stdout",
     "output_type": "stream",
     "text": [
      "Epoch [18/20], Loss: 0.4346\n"
     ]
    },
    {
     "name": "stderr",
     "output_type": "stream",
     "text": [
      "(valid) : 100%|██████████| 35/35 [00:08<00:00,  4.01it/s]\n"
     ]
    },
    {
     "name": "stdout",
     "output_type": "stream",
     "text": [
      "Accuracy: 50.89%\n",
      "Precision: 0.50\n",
      "Recall: 0.50\n",
      "F1 Score: 0.50\n",
      "Confusion Matrix:\n",
      "[[101 116]\n",
      " [159 184]]\n",
      "Classification Report:\n",
      "               precision    recall  f1-score   support\n",
      "\n",
      "Not Offensive       0.39      0.47      0.42       217\n",
      "    Offensive       0.61      0.54      0.57       343\n",
      "\n",
      "     accuracy                           0.51       560\n",
      "    macro avg       0.50      0.50      0.50       560\n",
      " weighted avg       0.53      0.51      0.51       560\n",
      "\n"
     ]
    },
    {
     "name": "stderr",
     "output_type": "stream",
     "text": [
      "(train) :  68%|██████▊   | 166/245 [00:57<00:27,  2.87it/s]/opt/conda/lib/python3.10/site-packages/PIL/Image.py:992: UserWarning: Palette images with Transparency expressed in bytes should be converted to RGBA images\n",
      "  warnings.warn(\n",
      "(train) : 100%|██████████| 245/245 [01:25<00:00,  2.88it/s]\n"
     ]
    },
    {
     "name": "stdout",
     "output_type": "stream",
     "text": [
      "Epoch [19/20], Loss: 0.4054\n"
     ]
    },
    {
     "name": "stderr",
     "output_type": "stream",
     "text": [
      "(valid) : 100%|██████████| 35/35 [00:08<00:00,  4.03it/s]\n"
     ]
    },
    {
     "name": "stdout",
     "output_type": "stream",
     "text": [
      "Accuracy: 48.93%\n",
      "Precision: 0.49\n",
      "Recall: 0.48\n",
      "F1 Score: 0.48\n",
      "Confusion Matrix:\n",
      "[[101 116]\n",
      " [170 173]]\n",
      "Classification Report:\n",
      "               precision    recall  f1-score   support\n",
      "\n",
      "Not Offensive       0.37      0.47      0.41       217\n",
      "    Offensive       0.60      0.50      0.55       343\n",
      "\n",
      "     accuracy                           0.49       560\n",
      "    macro avg       0.49      0.48      0.48       560\n",
      " weighted avg       0.51      0.49      0.50       560\n",
      "\n"
     ]
    },
    {
     "name": "stderr",
     "output_type": "stream",
     "text": [
      "(train) :  38%|███▊      | 93/245 [00:32<00:52,  2.88it/s]/opt/conda/lib/python3.10/site-packages/PIL/Image.py:992: UserWarning: Palette images with Transparency expressed in bytes should be converted to RGBA images\n",
      "  warnings.warn(\n",
      "(train) : 100%|██████████| 245/245 [01:25<00:00,  2.87it/s]\n"
     ]
    },
    {
     "name": "stdout",
     "output_type": "stream",
     "text": [
      "Epoch [20/20], Loss: 0.3738\n"
     ]
    },
    {
     "name": "stderr",
     "output_type": "stream",
     "text": [
      "(valid) : 100%|██████████| 35/35 [00:08<00:00,  4.03it/s]"
     ]
    },
    {
     "name": "stdout",
     "output_type": "stream",
     "text": [
      "Accuracy: 49.29%\n",
      "Precision: 0.50\n",
      "Recall: 0.50\n",
      "F1 Score: 0.49\n",
      "Confusion Matrix:\n",
      "[[110 107]\n",
      " [177 166]]\n",
      "Classification Report:\n",
      "               precision    recall  f1-score   support\n",
      "\n",
      "Not Offensive       0.38      0.51      0.44       217\n",
      "    Offensive       0.61      0.48      0.54       343\n",
      "\n",
      "     accuracy                           0.49       560\n",
      "    macro avg       0.50      0.50      0.49       560\n",
      " weighted avg       0.52      0.49      0.50       560\n",
      "\n"
     ]
    },
    {
     "name": "stderr",
     "output_type": "stream",
     "text": [
      "\n"
     ]
    }
   ],
   "source": [
    "best_f1 = 0.0\n",
    "best_model_state = None\n",
    "\n",
    "for epoch in range(num_epochs):\n",
    "    model.train()\n",
    "    running_loss = 0.0\n",
    "    pbar = tqdm(enumerate(train_loader), total=len(train_loader), desc=f\"(train) \")\n",
    "    all_labels = []\n",
    "    all_predictions = []\n",
    "    for step, batch in pbar:\n",
    "        batch = {k: v.to(device) for k, v in batch.items()}\n",
    "        labels = batch[\"label\"]\n",
    "        yHat = model(**batch)\n",
    "        out = torch.argmax(yHat, axis=1)\n",
    "        all_labels.extend(labels.cpu().numpy())\n",
    "        all_predictions.extend(out.cpu().numpy())\n",
    "        optimizer.zero_grad()\n",
    "        loss = criterion(yHat, labels)\n",
    "        running_loss += loss.item()\n",
    "        loss.backward()\n",
    "        optimizer.step()\n",
    "        \n",
    "        if scheduler is not None:\n",
    "            scheduler.step()\n",
    "\n",
    "    print(f\"Epoch [{epoch+1}/{num_epochs}], Loss: {running_loss/len(train_loader):.4f}\")\n",
    "    \n",
    "    accuracy = accuracy_score(all_labels, all_predictions)\n",
    "    precision = precision_score(all_labels, all_predictions, average='macro')\n",
    "    recall = recall_score(all_labels, all_predictions, average='macro')\n",
    "    f1 = f1_score(all_labels, all_predictions, average='macro')\n",
    "    conf_matrix = confusion_matrix(all_labels, all_predictions)\n",
    "    class_report = classification_report(all_labels, all_predictions, target_names=['Not Offensive', 'Offensive'])\n",
    "\n",
    "    # Print metrics\n",
    "#     print(f\"Accuracy: {accuracy * 100:.2f}%\")\n",
    "#     print(f\"Precision: {precision:.2f}\")\n",
    "#     print(f\"Recall: {recall:.2f}\")\n",
    "#     print(f\"F1 Score: {f1:.2f}\")\n",
    "#     print(\"Confusion Matrix:\")\n",
    "#     print(conf_matrix)\n",
    "#     print(\"Classification Report:\")\n",
    "#     print(class_report)\n",
    "\n",
    "    # Evaluation\n",
    "    model.eval()\n",
    "    all_labels = []\n",
    "    all_predictions = []\n",
    "    with torch.no_grad():\n",
    "        pbar = tqdm(enumerate(val_loader), total=len(val_loader), desc=f\"(valid) \")\n",
    "        for step, batch in pbar:\n",
    "            batch = {k: v.to(device) for k, v in batch.items()}\n",
    "            labels = batch[\"label\"]\n",
    "            yHat = model(**batch)\n",
    "            out = torch.argmax(yHat, axis=1)\n",
    "            all_labels.extend(labels.cpu().numpy())\n",
    "            all_predictions.extend(out.cpu().numpy())\n",
    "\n",
    "    # Compute metrics\n",
    "    accuracy = accuracy_score(all_labels, all_predictions)\n",
    "    precision = precision_score(all_labels, all_predictions, average='macro')\n",
    "    recall = recall_score(all_labels, all_predictions, average='macro')\n",
    "    f1 = f1_score(all_labels, all_predictions, average='macro')\n",
    "    conf_matrix = confusion_matrix(all_labels, all_predictions)\n",
    "    class_report = classification_report(all_labels, all_predictions, target_names=['Not Offensive', 'Offensive'])\n",
    "\n",
    "    # Print metrics\n",
    "    print(f\"Accuracy: {accuracy * 100:.2f}%\")\n",
    "    print(f\"Precision: {precision:.2f}\")\n",
    "    print(f\"Recall: {recall:.2f}\")\n",
    "    print(f\"F1 Score: {f1:.2f}\")\n",
    "    print(\"Confusion Matrix:\")\n",
    "    print(conf_matrix)\n",
    "    print(\"Classification Report:\")\n",
    "    print(class_report)\n",
    "    \n",
    "    if f1 > best_f1:\n",
    "        best_f1 = f1\n",
    "        best_model_state = model.state_dict()"
   ]
  },
  {
   "cell_type": "code",
   "execution_count": 15,
   "id": "de5f551e",
   "metadata": {
    "execution": {
     "iopub.execute_input": "2024-07-31T13:00:15.378323Z",
     "iopub.status.busy": "2024-07-31T13:00:15.377486Z",
     "iopub.status.idle": "2024-07-31T13:00:45.881431Z",
     "shell.execute_reply": "2024-07-31T13:00:45.880511Z"
    },
    "papermill": {
     "duration": 31.200491,
     "end_time": "2024-07-31T13:00:46.120169",
     "exception": false,
     "start_time": "2024-07-31T13:00:14.919678",
     "status": "completed"
    },
    "tags": []
   },
   "outputs": [
    {
     "name": "stdout",
     "output_type": "stream",
     "text": [
      "Best model loaded with F1 score: 0.5141736694677871\n"
     ]
    },
    {
     "name": "stderr",
     "output_type": "stream",
     "text": [
      "(test) :  38%|███▊      | 33/88 [00:11<00:21,  2.54it/s]/opt/conda/lib/python3.10/site-packages/PIL/Image.py:992: UserWarning: Palette images with Transparency expressed in bytes should be converted to RGBA images\n",
      "  warnings.warn(\n",
      "(test) : 100%|██████████| 88/88 [00:30<00:00,  2.89it/s]"
     ]
    },
    {
     "name": "stdout",
     "output_type": "stream",
     "text": [
      "Test Accuracy: 53.2523%\n",
      "Test Precision: 0.5233\n",
      "Test Recall: 0.5244\n",
      "Test F1 Score: 0.5212\n",
      "Test Confusion Matrix:\n",
      "[[265 278]\n",
      " [376 480]]\n",
      "Test Classification Report:\n",
      "               precision    recall  f1-score   support\n",
      "\n",
      "Not Offensive       0.41      0.49      0.45       543\n",
      "    Offensive       0.63      0.56      0.59       856\n",
      "\n",
      "     accuracy                           0.53      1399\n",
      "    macro avg       0.52      0.52      0.52      1399\n",
      " weighted avg       0.55      0.53      0.54      1399\n",
      "\n"
     ]
    },
    {
     "name": "stderr",
     "output_type": "stream",
     "text": [
      "\n"
     ]
    }
   ],
   "source": [
    "# Load the best model state at the end\n",
    "if best_model_state is not None:\n",
    "    model.load_state_dict(best_model_state)\n",
    "    print(\"Best model loaded with F1 score:\", best_f1)\n",
    "else:\n",
    "    print(\"No best model found.\")\n",
    "\n",
    "# Test the best model on the test data\n",
    "model.eval()\n",
    "all_labels = []\n",
    "all_predictions = []\n",
    "with torch.no_grad():\n",
    "    pbar = tqdm(enumerate(test_loader), total=len(test_loader), desc=f\"(test) \")\n",
    "    for step, batch in pbar:\n",
    "        batch = {k: v.to(device) for k, v in batch.items()}\n",
    "        labels = batch[\"label\"]\n",
    "        yHat = model(**batch)\n",
    "        out = torch.argmax(yHat, axis=1)\n",
    "        all_labels.extend(labels.cpu().numpy())\n",
    "        all_predictions.extend(out.cpu().numpy())\n",
    "\n",
    "# Compute test metrics\n",
    "accuracy = accuracy_score(all_labels, all_predictions)\n",
    "precision = precision_score(all_labels, all_predictions, average='macro')\n",
    "recall = recall_score(all_labels, all_predictions, average='macro')\n",
    "f1 = f1_score(all_labels, all_predictions, average='macro')\n",
    "conf_matrix = confusion_matrix(all_labels, all_predictions)\n",
    "class_report = classification_report(all_labels, all_predictions, target_names=['Not Offensive', 'Offensive'])\n",
    "\n",
    "# Print test metrics\n",
    "print(f\"Test Accuracy: {accuracy * 100:.4f}%\")\n",
    "print(f\"Test Precision: {precision:.4f}\")\n",
    "print(f\"Test Recall: {recall:.4f}\")\n",
    "print(f\"Test F1 Score: {f1:.4f}\")\n",
    "print(\"Test Confusion Matrix:\")\n",
    "print(conf_matrix)\n",
    "print(\"Test Classification Report:\")\n",
    "print(class_report)"
   ]
  },
  {
   "cell_type": "code",
   "execution_count": 16,
   "id": "258beb7e",
   "metadata": {
    "_cell_guid": "60d414ef-ffe6-4eeb-ba67-8b6bdd8eaf99",
    "_uuid": "dbb07d66-4d55-44d4-be91-7cb7ef7072fa",
    "collapsed": false,
    "execution": {
     "iopub.execute_input": "2024-07-31T13:00:47.091020Z",
     "iopub.status.busy": "2024-07-31T13:00:47.090664Z",
     "iopub.status.idle": "2024-07-31T13:00:47.097131Z",
     "shell.execute_reply": "2024-07-31T13:00:47.096269Z"
    },
    "jupyter": {
     "outputs_hidden": false
    },
    "papermill": {
     "duration": 0.519654,
     "end_time": "2024-07-31T13:00:47.099106",
     "exception": false,
     "start_time": "2024-07-31T13:00:46.579452",
     "status": "completed"
    },
    "tags": []
   },
   "outputs": [],
   "source": [
    "# for epoch in range(num_epochs):\n",
    "#     model.train()\n",
    "#     running_loss = 0.0\n",
    "#     pbar = tqdm(enumerate(train_loader), total=len(train_loader), desc=f\"(train) \")\n",
    "#     all_labels = []\n",
    "#     all_predictions = []\n",
    "#     for step,batch in pbar:\n",
    "#         batch = {k: v.to(device) for k, v in batch.items()}\n",
    "#         labels = batch[\"label\"]\n",
    "#         yHat = model.forward(**batch)\n",
    "#         out = torch.argmax(yHat, axis=1)\n",
    "#         all_labels.extend(labels.cpu().numpy())\n",
    "#         all_predictions.extend(out.cpu().numpy())\n",
    "#         optimizer.zero_grad()\n",
    "#         loss = criterion(yHat, labels)\n",
    "#         running_loss += loss\n",
    "#         loss.backward()\n",
    "#         optimizer.step()\n",
    "        \n",
    "#         if scheduler is not None:\n",
    "#             scheduler.step()\n",
    "        \n",
    "\n",
    "#     print(f\"Epoch [{epoch+1}/{num_epochs}], Loss: {running_loss/len(train_loader):.4f}\")\n",
    "#     #print(all_labels,all_predictions)\n",
    "#     accuracy = accuracy_score(all_labels, all_predictions)\n",
    "#     precision = precision_score(all_labels, all_predictions, average='macro')\n",
    "#     recall = recall_score(all_labels, all_predictions, average='macro')\n",
    "#     f1 = f1_score(all_labels, all_predictions, average='macro')\n",
    "#     conf_matrix = confusion_matrix(all_labels, all_predictions)\n",
    "#     class_report = classification_report(all_labels, all_predictions, target_names=['Not Offensive', 'Offensive'])\n",
    "#     # Print metrics\n",
    "#     print(f\"Accuracy: {accuracy * 100:.2f}%\")\n",
    "#     print(f\"Precision: {precision:.2f}\")\n",
    "#     print(f\"Recall: {recall:.2f}\")\n",
    "#     print(f\"F1 Score: {f1:.2f}\")\n",
    "#     print(\"Confusion Matrix:\")\n",
    "#     print(conf_matrix)\n",
    "#     print(\"Classification Report:\")\n",
    "#     print(class_report)\n",
    "    \n",
    "#     # Evaluation\n",
    "    \n",
    "#     model.eval()\n",
    "#     all_labels = []\n",
    "#     all_predictions = []\n",
    "#     with torch.no_grad():\n",
    "#         pbar = tqdm(enumerate(val_loader), total=len(val_loader), desc=f\"(valid) \")\n",
    "#         for step, batch in pbar:\n",
    "#             batch = {k: v.to(device) for k, v in batch.items()}\n",
    "#             labels = batch[\"label\"]\n",
    "#             yHat = model.forward(**batch)\n",
    "#             out = torch.argmax(yHat, axis=1)\n",
    "#             all_labels.extend(labels.cpu().numpy())\n",
    "#             all_predictions.extend(out.cpu().numpy())\n",
    "            \n",
    "\n",
    "#     # Compute metrics\n",
    "#     # print(all_labels,all_predictions)\n",
    "#     accuracy = accuracy_score(all_labels, all_predictions)\n",
    "#     precision = precision_score(all_labels, all_predictions, average='macro')\n",
    "#     recall = recall_score(all_labels, all_predictions, average='macro')\n",
    "#     f1 = f1_score(all_labels, all_predictions, average='macro')\n",
    "#     conf_matrix = confusion_matrix(all_labels, all_predictions)\n",
    "#     class_report = classification_report(all_labels, all_predictions, target_names=['Not Offensive', 'Offensive'])\n",
    "\n",
    "#     # Print metrics\n",
    "#     print(f\"Accuracy: {accuracy * 100:.2f}%\")\n",
    "#     print(f\"Precision: {precision:.2f}\")\n",
    "#     print(f\"Recall: {recall:.2f}\")\n",
    "#     print(f\"F1 Score: {f1:.2f}\")\n",
    "#     print(\"Confusion Matrix:\")\n",
    "#     print(conf_matrix)\n",
    "#     print(\"Classification Report:\")\n",
    "#     print(class_report)"
   ]
  },
  {
   "cell_type": "code",
   "execution_count": 17,
   "id": "7c85fef1",
   "metadata": {
    "_cell_guid": "738649ab-96e8-4325-a44d-403cd171d8ac",
    "_uuid": "628a0585-511d-496b-a458-fc8326f8fc4e",
    "collapsed": false,
    "execution": {
     "iopub.execute_input": "2024-07-31T13:00:48.023551Z",
     "iopub.status.busy": "2024-07-31T13:00:48.022898Z",
     "iopub.status.idle": "2024-07-31T13:00:48.027995Z",
     "shell.execute_reply": "2024-07-31T13:00:48.027130Z"
    },
    "jupyter": {
     "outputs_hidden": false
    },
    "papermill": {
     "duration": 0.468861,
     "end_time": "2024-07-31T13:00:48.029948",
     "exception": false,
     "start_time": "2024-07-31T13:00:47.561087",
     "status": "completed"
    },
    "tags": []
   },
   "outputs": [],
   "source": [
    "# model.eval()\n",
    "# all_labels = []\n",
    "# all_predictions = []\n",
    "# with torch.no_grad():\n",
    "#     pbar = tqdm(enumerate(test_loader), total=len(test_loader), desc=f\"(Test) \")\n",
    "#     for step, batch in pbar:\n",
    "#         batch = {k: v.to(device) for k, v in batch.items()}\n",
    "#         labels = batch[\"label\"]\n",
    "#         yHat = model.forward(**batch)\n",
    "#         out = torch.argmax(yHat, axis=1)\n",
    "#         all_labels.extend(labels.cpu().numpy())\n",
    "#         all_predictions.extend(out.cpu().numpy())\n",
    "            \n",
    "# # Compute metrics\n",
    "# # print(all_labels,all_predictions)\n",
    "# accuracy = accuracy_score(all_labels, all_predictions)\n",
    "# precision = precision_score(all_labels, all_predictions, average='macro')\n",
    "# recall = recall_score(all_labels, all_predictions, average='macro')\n",
    "# f1 = f1_score(all_labels, all_predictions, average='macro')\n",
    "# conf_matrix = confusion_matrix(all_labels, all_predictions)\n",
    "# class_report = classification_report(all_labels, all_predictions, target_names=['Not Offensive', 'Offensive'])\n",
    "\n",
    "# # Print metrics\n",
    "# print(f\"Accuracy: {accuracy * 100:.2f}%\")\n",
    "# print(f\"Precision: {precision:.2f}\")\n",
    "# print(f\"Recall: {recall:.2f}\")\n",
    "# print(f\"F1 Score: {f1:.2f}\")\n",
    "# print(\"Confusion Matrix:\")\n",
    "# print(conf_matrix)\n",
    "# print(\"Classification Report:\")\n",
    "# print(class_report)"
   ]
  },
  {
   "cell_type": "code",
   "execution_count": null,
   "id": "0d027e82",
   "metadata": {
    "papermill": {
     "duration": 0.461253,
     "end_time": "2024-07-31T13:00:48.954844",
     "exception": false,
     "start_time": "2024-07-31T13:00:48.493591",
     "status": "completed"
    },
    "tags": []
   },
   "outputs": [],
   "source": []
  },
  {
   "cell_type": "code",
   "execution_count": null,
   "id": "df41c46b",
   "metadata": {
    "papermill": {
     "duration": 0.460888,
     "end_time": "2024-07-31T13:00:49.922130",
     "exception": false,
     "start_time": "2024-07-31T13:00:49.461242",
     "status": "completed"
    },
    "tags": []
   },
   "outputs": [],
   "source": []
  }
 ],
 "metadata": {
  "kaggle": {
   "accelerator": "gpu",
   "dataSources": [
    {
     "datasetId": 531544,
     "sourceId": 973292,
     "sourceType": "datasetVersion"
    },
    {
     "sourceId": 190469921,
     "sourceType": "kernelVersion"
    }
   ],
   "dockerImageVersionId": 30699,
   "isGpuEnabled": true,
   "isInternetEnabled": true,
   "language": "python",
   "sourceType": "notebook"
  },
  "kernelspec": {
   "display_name": "Python 3",
   "language": "python",
   "name": "python3"
  },
  "language_info": {
   "codemirror_mode": {
    "name": "ipython",
    "version": 3
   },
   "file_extension": ".py",
   "mimetype": "text/x-python",
   "name": "python",
   "nbconvert_exporter": "python",
   "pygments_lexer": "ipython3",
   "version": "3.10.13"
  },
  "papermill": {
   "default_parameters": {},
   "duration": 1949.126883,
   "end_time": "2024-07-31T13:00:52.212545",
   "environment_variables": {},
   "exception": null,
   "input_path": "__notebook__.ipynb",
   "output_path": "__notebook__.ipynb",
   "parameters": {},
   "start_time": "2024-07-31T12:28:23.085662",
   "version": "2.5.0"
  },
  "widgets": {
   "application/vnd.jupyter.widget-state+json": {
    "state": {
     "0019142d8e4846bf831b845c5886078c": {
      "model_module": "@jupyter-widgets/base",
      "model_module_version": "1.2.0",
      "model_name": "LayoutModel",
      "state": {
       "_model_module": "@jupyter-widgets/base",
       "_model_module_version": "1.2.0",
       "_model_name": "LayoutModel",
       "_view_count": null,
       "_view_module": "@jupyter-widgets/base",
       "_view_module_version": "1.2.0",
       "_view_name": "LayoutView",
       "align_content": null,
       "align_items": null,
       "align_self": null,
       "border": null,
       "bottom": null,
       "display": null,
       "flex": null,
       "flex_flow": null,
       "grid_area": null,
       "grid_auto_columns": null,
       "grid_auto_flow": null,
       "grid_auto_rows": null,
       "grid_column": null,
       "grid_gap": null,
       "grid_row": null,
       "grid_template_areas": null,
       "grid_template_columns": null,
       "grid_template_rows": null,
       "height": null,
       "justify_content": null,
       "justify_items": null,
       "left": null,
       "margin": null,
       "max_height": null,
       "max_width": null,
       "min_height": null,
       "min_width": null,
       "object_fit": null,
       "object_position": null,
       "order": null,
       "overflow": null,
       "overflow_x": null,
       "overflow_y": null,
       "padding": null,
       "right": null,
       "top": null,
       "visibility": null,
       "width": null
      }
     },
     "03d7d9598a9c4a3abda4ca986509fcf5": {
      "model_module": "@jupyter-widgets/controls",
      "model_module_version": "1.5.0",
      "model_name": "HTMLModel",
      "state": {
       "_dom_classes": [],
       "_model_module": "@jupyter-widgets/controls",
       "_model_module_version": "1.5.0",
       "_model_name": "HTMLModel",
       "_view_count": null,
       "_view_module": "@jupyter-widgets/controls",
       "_view_module_version": "1.5.0",
       "_view_name": "HTMLView",
       "description": "",
       "description_tooltip": null,
       "layout": "IPY_MODEL_9dac7553d95a4b01b559d034bfaddab4",
       "placeholder": "​",
       "style": "IPY_MODEL_735878e75730400bb43e5cb32435ff35",
       "value": " 440M/440M [00:01&lt;00:00, 268MB/s]"
      }
     },
     "03f7ad045fa8415eab7e8404930682ec": {
      "model_module": "@jupyter-widgets/controls",
      "model_module_version": "1.5.0",
      "model_name": "HBoxModel",
      "state": {
       "_dom_classes": [],
       "_model_module": "@jupyter-widgets/controls",
       "_model_module_version": "1.5.0",
       "_model_name": "HBoxModel",
       "_view_count": null,
       "_view_module": "@jupyter-widgets/controls",
       "_view_module_version": "1.5.0",
       "_view_name": "HBoxView",
       "box_style": "",
       "children": [
        "IPY_MODEL_8717ba7c79a548ef8014fd15ecfc4503",
        "IPY_MODEL_8e593a9275eb41f297e07174f131de87",
        "IPY_MODEL_84dee0d12b2b48e9bd9b52fdad184e36"
       ],
       "layout": "IPY_MODEL_658957843df8424da2f6be239df5cd7d"
      }
     },
     "054bd49d9e5a4bb5901bdfb49a0fc4ff": {
      "model_module": "@jupyter-widgets/controls",
      "model_module_version": "1.5.0",
      "model_name": "FloatProgressModel",
      "state": {
       "_dom_classes": [],
       "_model_module": "@jupyter-widgets/controls",
       "_model_module_version": "1.5.0",
       "_model_name": "FloatProgressModel",
       "_view_count": null,
       "_view_module": "@jupyter-widgets/controls",
       "_view_module_version": "1.5.0",
       "_view_name": "ProgressView",
       "bar_style": "success",
       "description": "",
       "description_tooltip": null,
       "layout": "IPY_MODEL_69730f4f58104c9699bf78a619bb94b4",
       "max": 570.0,
       "min": 0.0,
       "orientation": "horizontal",
       "style": "IPY_MODEL_f02b2fd473254641a9dfc034e416cc11",
       "value": 570.0
      }
     },
     "165970d4497f4b4fbd5f6d9e2dde772f": {
      "model_module": "@jupyter-widgets/controls",
      "model_module_version": "1.5.0",
      "model_name": "HTMLModel",
      "state": {
       "_dom_classes": [],
       "_model_module": "@jupyter-widgets/controls",
       "_model_module_version": "1.5.0",
       "_model_name": "HTMLModel",
       "_view_count": null,
       "_view_module": "@jupyter-widgets/controls",
       "_view_module_version": "1.5.0",
       "_view_name": "HTMLView",
       "description": "",
       "description_tooltip": null,
       "layout": "IPY_MODEL_ca47d07ca98f4094aa7f310acd231e72",
       "placeholder": "​",
       "style": "IPY_MODEL_f2d3506a83414fdf9ce22d43cc626762",
       "value": " 570/570 [00:00&lt;00:00, 52.4kB/s]"
      }
     },
     "2163e8d03c3c4db0a1882c1e56c666d9": {
      "model_module": "@jupyter-widgets/controls",
      "model_module_version": "1.5.0",
      "model_name": "FloatProgressModel",
      "state": {
       "_dom_classes": [],
       "_model_module": "@jupyter-widgets/controls",
       "_model_module_version": "1.5.0",
       "_model_name": "FloatProgressModel",
       "_view_count": null,
       "_view_module": "@jupyter-widgets/controls",
       "_view_module_version": "1.5.0",
       "_view_name": "ProgressView",
       "bar_style": "success",
       "description": "",
       "description_tooltip": null,
       "layout": "IPY_MODEL_26a3c0973ed94efd96509140cc4a62da",
       "max": 440449768.0,
       "min": 0.0,
       "orientation": "horizontal",
       "style": "IPY_MODEL_cf41e138df964e7b9cdc58a0fa965721",
       "value": 440449768.0
      }
     },
     "2579210b393b4cf8a64e17d076b1bae2": {
      "model_module": "@jupyter-widgets/base",
      "model_module_version": "1.2.0",
      "model_name": "LayoutModel",
      "state": {
       "_model_module": "@jupyter-widgets/base",
       "_model_module_version": "1.2.0",
       "_model_name": "LayoutModel",
       "_view_count": null,
       "_view_module": "@jupyter-widgets/base",
       "_view_module_version": "1.2.0",
       "_view_name": "LayoutView",
       "align_content": null,
       "align_items": null,
       "align_self": null,
       "border": null,
       "bottom": null,
       "display": null,
       "flex": null,
       "flex_flow": null,
       "grid_area": null,
       "grid_auto_columns": null,
       "grid_auto_flow": null,
       "grid_auto_rows": null,
       "grid_column": null,
       "grid_gap": null,
       "grid_row": null,
       "grid_template_areas": null,
       "grid_template_columns": null,
       "grid_template_rows": null,
       "height": null,
       "justify_content": null,
       "justify_items": null,
       "left": null,
       "margin": null,
       "max_height": null,
       "max_width": null,
       "min_height": null,
       "min_width": null,
       "object_fit": null,
       "object_position": null,
       "order": null,
       "overflow": null,
       "overflow_x": null,
       "overflow_y": null,
       "padding": null,
       "right": null,
       "top": null,
       "visibility": null,
       "width": null
      }
     },
     "26a3c0973ed94efd96509140cc4a62da": {
      "model_module": "@jupyter-widgets/base",
      "model_module_version": "1.2.0",
      "model_name": "LayoutModel",
      "state": {
       "_model_module": "@jupyter-widgets/base",
       "_model_module_version": "1.2.0",
       "_model_name": "LayoutModel",
       "_view_count": null,
       "_view_module": "@jupyter-widgets/base",
       "_view_module_version": "1.2.0",
       "_view_name": "LayoutView",
       "align_content": null,
       "align_items": null,
       "align_self": null,
       "border": null,
       "bottom": null,
       "display": null,
       "flex": null,
       "flex_flow": null,
       "grid_area": null,
       "grid_auto_columns": null,
       "grid_auto_flow": null,
       "grid_auto_rows": null,
       "grid_column": null,
       "grid_gap": null,
       "grid_row": null,
       "grid_template_areas": null,
       "grid_template_columns": null,
       "grid_template_rows": null,
       "height": null,
       "justify_content": null,
       "justify_items": null,
       "left": null,
       "margin": null,
       "max_height": null,
       "max_width": null,
       "min_height": null,
       "min_width": null,
       "object_fit": null,
       "object_position": null,
       "order": null,
       "overflow": null,
       "overflow_x": null,
       "overflow_y": null,
       "padding": null,
       "right": null,
       "top": null,
       "visibility": null,
       "width": null
      }
     },
     "2c06b2694f404a808f6c760fa76ec98d": {
      "model_module": "@jupyter-widgets/controls",
      "model_module_version": "1.5.0",
      "model_name": "DescriptionStyleModel",
      "state": {
       "_model_module": "@jupyter-widgets/controls",
       "_model_module_version": "1.5.0",
       "_model_name": "DescriptionStyleModel",
       "_view_count": null,
       "_view_module": "@jupyter-widgets/base",
       "_view_module_version": "1.2.0",
       "_view_name": "StyleView",
       "description_width": ""
      }
     },
     "409e3f6bb1554143917af757bc6adcbe": {
      "model_module": "@jupyter-widgets/base",
      "model_module_version": "1.2.0",
      "model_name": "LayoutModel",
      "state": {
       "_model_module": "@jupyter-widgets/base",
       "_model_module_version": "1.2.0",
       "_model_name": "LayoutModel",
       "_view_count": null,
       "_view_module": "@jupyter-widgets/base",
       "_view_module_version": "1.2.0",
       "_view_name": "LayoutView",
       "align_content": null,
       "align_items": null,
       "align_self": null,
       "border": null,
       "bottom": null,
       "display": null,
       "flex": null,
       "flex_flow": null,
       "grid_area": null,
       "grid_auto_columns": null,
       "grid_auto_flow": null,
       "grid_auto_rows": null,
       "grid_column": null,
       "grid_gap": null,
       "grid_row": null,
       "grid_template_areas": null,
       "grid_template_columns": null,
       "grid_template_rows": null,
       "height": null,
       "justify_content": null,
       "justify_items": null,
       "left": null,
       "margin": null,
       "max_height": null,
       "max_width": null,
       "min_height": null,
       "min_width": null,
       "object_fit": null,
       "object_position": null,
       "order": null,
       "overflow": null,
       "overflow_x": null,
       "overflow_y": null,
       "padding": null,
       "right": null,
       "top": null,
       "visibility": null,
       "width": null
      }
     },
     "44c0319a4ebb4c03bf4f3651803519b2": {
      "model_module": "@jupyter-widgets/controls",
      "model_module_version": "1.5.0",
      "model_name": "DescriptionStyleModel",
      "state": {
       "_model_module": "@jupyter-widgets/controls",
       "_model_module_version": "1.5.0",
       "_model_name": "DescriptionStyleModel",
       "_view_count": null,
       "_view_module": "@jupyter-widgets/base",
       "_view_module_version": "1.2.0",
       "_view_name": "StyleView",
       "description_width": ""
      }
     },
     "4663a75f6f274aa7a25153337c22b10b": {
      "model_module": "@jupyter-widgets/controls",
      "model_module_version": "1.5.0",
      "model_name": "HBoxModel",
      "state": {
       "_dom_classes": [],
       "_model_module": "@jupyter-widgets/controls",
       "_model_module_version": "1.5.0",
       "_model_name": "HBoxModel",
       "_view_count": null,
       "_view_module": "@jupyter-widgets/controls",
       "_view_module_version": "1.5.0",
       "_view_name": "HBoxView",
       "box_style": "",
       "children": [
        "IPY_MODEL_5e369851a1aa4d6bb11a3acc6f6254eb",
        "IPY_MODEL_61f48dc022504db5bacdb9221472bda9",
        "IPY_MODEL_c19663eeac854e5ebf098d12c1f0eda0"
       ],
       "layout": "IPY_MODEL_949e11da67794fd4b5712ebdad587619"
      }
     },
     "4b6090373c7f4c48b2a3a2d5459aa8df": {
      "model_module": "@jupyter-widgets/base",
      "model_module_version": "1.2.0",
      "model_name": "LayoutModel",
      "state": {
       "_model_module": "@jupyter-widgets/base",
       "_model_module_version": "1.2.0",
       "_model_name": "LayoutModel",
       "_view_count": null,
       "_view_module": "@jupyter-widgets/base",
       "_view_module_version": "1.2.0",
       "_view_name": "LayoutView",
       "align_content": null,
       "align_items": null,
       "align_self": null,
       "border": null,
       "bottom": null,
       "display": null,
       "flex": null,
       "flex_flow": null,
       "grid_area": null,
       "grid_auto_columns": null,
       "grid_auto_flow": null,
       "grid_auto_rows": null,
       "grid_column": null,
       "grid_gap": null,
       "grid_row": null,
       "grid_template_areas": null,
       "grid_template_columns": null,
       "grid_template_rows": null,
       "height": null,
       "justify_content": null,
       "justify_items": null,
       "left": null,
       "margin": null,
       "max_height": null,
       "max_width": null,
       "min_height": null,
       "min_width": null,
       "object_fit": null,
       "object_position": null,
       "order": null,
       "overflow": null,
       "overflow_x": null,
       "overflow_y": null,
       "padding": null,
       "right": null,
       "top": null,
       "visibility": null,
       "width": null
      }
     },
     "4c49d46dca194383ad1522636dc04c98": {
      "model_module": "@jupyter-widgets/base",
      "model_module_version": "1.2.0",
      "model_name": "LayoutModel",
      "state": {
       "_model_module": "@jupyter-widgets/base",
       "_model_module_version": "1.2.0",
       "_model_name": "LayoutModel",
       "_view_count": null,
       "_view_module": "@jupyter-widgets/base",
       "_view_module_version": "1.2.0",
       "_view_name": "LayoutView",
       "align_content": null,
       "align_items": null,
       "align_self": null,
       "border": null,
       "bottom": null,
       "display": null,
       "flex": null,
       "flex_flow": null,
       "grid_area": null,
       "grid_auto_columns": null,
       "grid_auto_flow": null,
       "grid_auto_rows": null,
       "grid_column": null,
       "grid_gap": null,
       "grid_row": null,
       "grid_template_areas": null,
       "grid_template_columns": null,
       "grid_template_rows": null,
       "height": null,
       "justify_content": null,
       "justify_items": null,
       "left": null,
       "margin": null,
       "max_height": null,
       "max_width": null,
       "min_height": null,
       "min_width": null,
       "object_fit": null,
       "object_position": null,
       "order": null,
       "overflow": null,
       "overflow_x": null,
       "overflow_y": null,
       "padding": null,
       "right": null,
       "top": null,
       "visibility": null,
       "width": null
      }
     },
     "507040b52d3b4a17a636faa6756d1f04": {
      "model_module": "@jupyter-widgets/controls",
      "model_module_version": "1.5.0",
      "model_name": "HTMLModel",
      "state": {
       "_dom_classes": [],
       "_model_module": "@jupyter-widgets/controls",
       "_model_module_version": "1.5.0",
       "_model_name": "HTMLModel",
       "_view_count": null,
       "_view_module": "@jupyter-widgets/controls",
       "_view_module_version": "1.5.0",
       "_view_name": "HTMLView",
       "description": "",
       "description_tooltip": null,
       "layout": "IPY_MODEL_0019142d8e4846bf831b845c5886078c",
       "placeholder": "​",
       "style": "IPY_MODEL_661b73bd34314a98adbadf0c958ab455",
       "value": "tokenizer.json: 100%"
      }
     },
     "527cc2b2af044ca7941b0b4f7b4a624f": {
      "model_module": "@jupyter-widgets/controls",
      "model_module_version": "1.5.0",
      "model_name": "HTMLModel",
      "state": {
       "_dom_classes": [],
       "_model_module": "@jupyter-widgets/controls",
       "_model_module_version": "1.5.0",
       "_model_name": "HTMLModel",
       "_view_count": null,
       "_view_module": "@jupyter-widgets/controls",
       "_view_module_version": "1.5.0",
       "_view_name": "HTMLView",
       "description": "",
       "description_tooltip": null,
       "layout": "IPY_MODEL_672006713f124c59a86f00c754c93392",
       "placeholder": "​",
       "style": "IPY_MODEL_6cfec11e96d44e0cac0ee47b33c950e2",
       "value": "config.json: 100%"
      }
     },
     "5e369851a1aa4d6bb11a3acc6f6254eb": {
      "model_module": "@jupyter-widgets/controls",
      "model_module_version": "1.5.0",
      "model_name": "HTMLModel",
      "state": {
       "_dom_classes": [],
       "_model_module": "@jupyter-widgets/controls",
       "_model_module_version": "1.5.0",
       "_model_name": "HTMLModel",
       "_view_count": null,
       "_view_module": "@jupyter-widgets/controls",
       "_view_module_version": "1.5.0",
       "_view_name": "HTMLView",
       "description": "",
       "description_tooltip": null,
       "layout": "IPY_MODEL_4c49d46dca194383ad1522636dc04c98",
       "placeholder": "​",
       "style": "IPY_MODEL_7cb884c6af4b4dd18d927bbb1a2a1ec3",
       "value": "tokenizer_config.json: 100%"
      }
     },
     "61cd48c288754f0b960da2d4de0ed927": {
      "model_module": "@jupyter-widgets/base",
      "model_module_version": "1.2.0",
      "model_name": "LayoutModel",
      "state": {
       "_model_module": "@jupyter-widgets/base",
       "_model_module_version": "1.2.0",
       "_model_name": "LayoutModel",
       "_view_count": null,
       "_view_module": "@jupyter-widgets/base",
       "_view_module_version": "1.2.0",
       "_view_name": "LayoutView",
       "align_content": null,
       "align_items": null,
       "align_self": null,
       "border": null,
       "bottom": null,
       "display": null,
       "flex": null,
       "flex_flow": null,
       "grid_area": null,
       "grid_auto_columns": null,
       "grid_auto_flow": null,
       "grid_auto_rows": null,
       "grid_column": null,
       "grid_gap": null,
       "grid_row": null,
       "grid_template_areas": null,
       "grid_template_columns": null,
       "grid_template_rows": null,
       "height": null,
       "justify_content": null,
       "justify_items": null,
       "left": null,
       "margin": null,
       "max_height": null,
       "max_width": null,
       "min_height": null,
       "min_width": null,
       "object_fit": null,
       "object_position": null,
       "order": null,
       "overflow": null,
       "overflow_x": null,
       "overflow_y": null,
       "padding": null,
       "right": null,
       "top": null,
       "visibility": null,
       "width": null
      }
     },
     "61f48dc022504db5bacdb9221472bda9": {
      "model_module": "@jupyter-widgets/controls",
      "model_module_version": "1.5.0",
      "model_name": "FloatProgressModel",
      "state": {
       "_dom_classes": [],
       "_model_module": "@jupyter-widgets/controls",
       "_model_module_version": "1.5.0",
       "_model_name": "FloatProgressModel",
       "_view_count": null,
       "_view_module": "@jupyter-widgets/controls",
       "_view_module_version": "1.5.0",
       "_view_name": "ProgressView",
       "bar_style": "success",
       "description": "",
       "description_tooltip": null,
       "layout": "IPY_MODEL_bb1f2e58493648a4812b4d45227a04c7",
       "max": 48.0,
       "min": 0.0,
       "orientation": "horizontal",
       "style": "IPY_MODEL_bd32ee8ea39243828dd5488820f062d8",
       "value": 48.0
      }
     },
     "658957843df8424da2f6be239df5cd7d": {
      "model_module": "@jupyter-widgets/base",
      "model_module_version": "1.2.0",
      "model_name": "LayoutModel",
      "state": {
       "_model_module": "@jupyter-widgets/base",
       "_model_module_version": "1.2.0",
       "_model_name": "LayoutModel",
       "_view_count": null,
       "_view_module": "@jupyter-widgets/base",
       "_view_module_version": "1.2.0",
       "_view_name": "LayoutView",
       "align_content": null,
       "align_items": null,
       "align_self": null,
       "border": null,
       "bottom": null,
       "display": null,
       "flex": null,
       "flex_flow": null,
       "grid_area": null,
       "grid_auto_columns": null,
       "grid_auto_flow": null,
       "grid_auto_rows": null,
       "grid_column": null,
       "grid_gap": null,
       "grid_row": null,
       "grid_template_areas": null,
       "grid_template_columns": null,
       "grid_template_rows": null,
       "height": null,
       "justify_content": null,
       "justify_items": null,
       "left": null,
       "margin": null,
       "max_height": null,
       "max_width": null,
       "min_height": null,
       "min_width": null,
       "object_fit": null,
       "object_position": null,
       "order": null,
       "overflow": null,
       "overflow_x": null,
       "overflow_y": null,
       "padding": null,
       "right": null,
       "top": null,
       "visibility": null,
       "width": null
      }
     },
     "661b73bd34314a98adbadf0c958ab455": {
      "model_module": "@jupyter-widgets/controls",
      "model_module_version": "1.5.0",
      "model_name": "DescriptionStyleModel",
      "state": {
       "_model_module": "@jupyter-widgets/controls",
       "_model_module_version": "1.5.0",
       "_model_name": "DescriptionStyleModel",
       "_view_count": null,
       "_view_module": "@jupyter-widgets/base",
       "_view_module_version": "1.2.0",
       "_view_name": "StyleView",
       "description_width": ""
      }
     },
     "668ec21f09c2417781ae9f8cc0aa6b1c": {
      "model_module": "@jupyter-widgets/controls",
      "model_module_version": "1.5.0",
      "model_name": "HTMLModel",
      "state": {
       "_dom_classes": [],
       "_model_module": "@jupyter-widgets/controls",
       "_model_module_version": "1.5.0",
       "_model_name": "HTMLModel",
       "_view_count": null,
       "_view_module": "@jupyter-widgets/controls",
       "_view_module_version": "1.5.0",
       "_view_name": "HTMLView",
       "description": "",
       "description_tooltip": null,
       "layout": "IPY_MODEL_9b2853bc7f9a4aeca8f49657d214aaaa",
       "placeholder": "​",
       "style": "IPY_MODEL_44c0319a4ebb4c03bf4f3651803519b2",
       "value": " 466k/466k [00:00&lt;00:00, 31.0MB/s]"
      }
     },
     "672006713f124c59a86f00c754c93392": {
      "model_module": "@jupyter-widgets/base",
      "model_module_version": "1.2.0",
      "model_name": "LayoutModel",
      "state": {
       "_model_module": "@jupyter-widgets/base",
       "_model_module_version": "1.2.0",
       "_model_name": "LayoutModel",
       "_view_count": null,
       "_view_module": "@jupyter-widgets/base",
       "_view_module_version": "1.2.0",
       "_view_name": "LayoutView",
       "align_content": null,
       "align_items": null,
       "align_self": null,
       "border": null,
       "bottom": null,
       "display": null,
       "flex": null,
       "flex_flow": null,
       "grid_area": null,
       "grid_auto_columns": null,
       "grid_auto_flow": null,
       "grid_auto_rows": null,
       "grid_column": null,
       "grid_gap": null,
       "grid_row": null,
       "grid_template_areas": null,
       "grid_template_columns": null,
       "grid_template_rows": null,
       "height": null,
       "justify_content": null,
       "justify_items": null,
       "left": null,
       "margin": null,
       "max_height": null,
       "max_width": null,
       "min_height": null,
       "min_width": null,
       "object_fit": null,
       "object_position": null,
       "order": null,
       "overflow": null,
       "overflow_x": null,
       "overflow_y": null,
       "padding": null,
       "right": null,
       "top": null,
       "visibility": null,
       "width": null
      }
     },
     "69730f4f58104c9699bf78a619bb94b4": {
      "model_module": "@jupyter-widgets/base",
      "model_module_version": "1.2.0",
      "model_name": "LayoutModel",
      "state": {
       "_model_module": "@jupyter-widgets/base",
       "_model_module_version": "1.2.0",
       "_model_name": "LayoutModel",
       "_view_count": null,
       "_view_module": "@jupyter-widgets/base",
       "_view_module_version": "1.2.0",
       "_view_name": "LayoutView",
       "align_content": null,
       "align_items": null,
       "align_self": null,
       "border": null,
       "bottom": null,
       "display": null,
       "flex": null,
       "flex_flow": null,
       "grid_area": null,
       "grid_auto_columns": null,
       "grid_auto_flow": null,
       "grid_auto_rows": null,
       "grid_column": null,
       "grid_gap": null,
       "grid_row": null,
       "grid_template_areas": null,
       "grid_template_columns": null,
       "grid_template_rows": null,
       "height": null,
       "justify_content": null,
       "justify_items": null,
       "left": null,
       "margin": null,
       "max_height": null,
       "max_width": null,
       "min_height": null,
       "min_width": null,
       "object_fit": null,
       "object_position": null,
       "order": null,
       "overflow": null,
       "overflow_x": null,
       "overflow_y": null,
       "padding": null,
       "right": null,
       "top": null,
       "visibility": null,
       "width": null
      }
     },
     "6cfec11e96d44e0cac0ee47b33c950e2": {
      "model_module": "@jupyter-widgets/controls",
      "model_module_version": "1.5.0",
      "model_name": "DescriptionStyleModel",
      "state": {
       "_model_module": "@jupyter-widgets/controls",
       "_model_module_version": "1.5.0",
       "_model_name": "DescriptionStyleModel",
       "_view_count": null,
       "_view_module": "@jupyter-widgets/base",
       "_view_module_version": "1.2.0",
       "_view_name": "StyleView",
       "description_width": ""
      }
     },
     "735878e75730400bb43e5cb32435ff35": {
      "model_module": "@jupyter-widgets/controls",
      "model_module_version": "1.5.0",
      "model_name": "DescriptionStyleModel",
      "state": {
       "_model_module": "@jupyter-widgets/controls",
       "_model_module_version": "1.5.0",
       "_model_name": "DescriptionStyleModel",
       "_view_count": null,
       "_view_module": "@jupyter-widgets/base",
       "_view_module_version": "1.2.0",
       "_view_name": "StyleView",
       "description_width": ""
      }
     },
     "756ea7e233eb4adc8e65b389d1ee894b": {
      "model_module": "@jupyter-widgets/controls",
      "model_module_version": "1.5.0",
      "model_name": "HBoxModel",
      "state": {
       "_dom_classes": [],
       "_model_module": "@jupyter-widgets/controls",
       "_model_module_version": "1.5.0",
       "_model_name": "HBoxModel",
       "_view_count": null,
       "_view_module": "@jupyter-widgets/controls",
       "_view_module_version": "1.5.0",
       "_view_name": "HBoxView",
       "box_style": "",
       "children": [
        "IPY_MODEL_507040b52d3b4a17a636faa6756d1f04",
        "IPY_MODEL_dce1a4712c6c4c8c8d7e45ac71c7df03",
        "IPY_MODEL_668ec21f09c2417781ae9f8cc0aa6b1c"
       ],
       "layout": "IPY_MODEL_af03b970d452440ca529b4ef2c658d91"
      }
     },
     "7a4b196ea9ff48298af8ff496e192eb1": {
      "model_module": "@jupyter-widgets/base",
      "model_module_version": "1.2.0",
      "model_name": "LayoutModel",
      "state": {
       "_model_module": "@jupyter-widgets/base",
       "_model_module_version": "1.2.0",
       "_model_name": "LayoutModel",
       "_view_count": null,
       "_view_module": "@jupyter-widgets/base",
       "_view_module_version": "1.2.0",
       "_view_name": "LayoutView",
       "align_content": null,
       "align_items": null,
       "align_self": null,
       "border": null,
       "bottom": null,
       "display": null,
       "flex": null,
       "flex_flow": null,
       "grid_area": null,
       "grid_auto_columns": null,
       "grid_auto_flow": null,
       "grid_auto_rows": null,
       "grid_column": null,
       "grid_gap": null,
       "grid_row": null,
       "grid_template_areas": null,
       "grid_template_columns": null,
       "grid_template_rows": null,
       "height": null,
       "justify_content": null,
       "justify_items": null,
       "left": null,
       "margin": null,
       "max_height": null,
       "max_width": null,
       "min_height": null,
       "min_width": null,
       "object_fit": null,
       "object_position": null,
       "order": null,
       "overflow": null,
       "overflow_x": null,
       "overflow_y": null,
       "padding": null,
       "right": null,
       "top": null,
       "visibility": null,
       "width": null
      }
     },
     "7b1abf6158d14990af38f358d9930897": {
      "model_module": "@jupyter-widgets/controls",
      "model_module_version": "1.5.0",
      "model_name": "DescriptionStyleModel",
      "state": {
       "_model_module": "@jupyter-widgets/controls",
       "_model_module_version": "1.5.0",
       "_model_name": "DescriptionStyleModel",
       "_view_count": null,
       "_view_module": "@jupyter-widgets/base",
       "_view_module_version": "1.2.0",
       "_view_name": "StyleView",
       "description_width": ""
      }
     },
     "7cb884c6af4b4dd18d927bbb1a2a1ec3": {
      "model_module": "@jupyter-widgets/controls",
      "model_module_version": "1.5.0",
      "model_name": "DescriptionStyleModel",
      "state": {
       "_model_module": "@jupyter-widgets/controls",
       "_model_module_version": "1.5.0",
       "_model_name": "DescriptionStyleModel",
       "_view_count": null,
       "_view_module": "@jupyter-widgets/base",
       "_view_module_version": "1.2.0",
       "_view_name": "StyleView",
       "description_width": ""
      }
     },
     "84dee0d12b2b48e9bd9b52fdad184e36": {
      "model_module": "@jupyter-widgets/controls",
      "model_module_version": "1.5.0",
      "model_name": "HTMLModel",
      "state": {
       "_dom_classes": [],
       "_model_module": "@jupyter-widgets/controls",
       "_model_module_version": "1.5.0",
       "_model_name": "HTMLModel",
       "_view_count": null,
       "_view_module": "@jupyter-widgets/controls",
       "_view_module_version": "1.5.0",
       "_view_name": "HTMLView",
       "description": "",
       "description_tooltip": null,
       "layout": "IPY_MODEL_61cd48c288754f0b960da2d4de0ed927",
       "placeholder": "​",
       "style": "IPY_MODEL_2c06b2694f404a808f6c760fa76ec98d",
       "value": " 232k/232k [00:00&lt;00:00, 3.61MB/s]"
      }
     },
     "8717ba7c79a548ef8014fd15ecfc4503": {
      "model_module": "@jupyter-widgets/controls",
      "model_module_version": "1.5.0",
      "model_name": "HTMLModel",
      "state": {
       "_dom_classes": [],
       "_model_module": "@jupyter-widgets/controls",
       "_model_module_version": "1.5.0",
       "_model_name": "HTMLModel",
       "_view_count": null,
       "_view_module": "@jupyter-widgets/controls",
       "_view_module_version": "1.5.0",
       "_view_name": "HTMLView",
       "description": "",
       "description_tooltip": null,
       "layout": "IPY_MODEL_a3421c5f709d45e5aa2f9ae43b7ddb76",
       "placeholder": "​",
       "style": "IPY_MODEL_c2d4a306baa547809160c0e389f4efa7",
       "value": "vocab.txt: 100%"
      }
     },
     "8e593a9275eb41f297e07174f131de87": {
      "model_module": "@jupyter-widgets/controls",
      "model_module_version": "1.5.0",
      "model_name": "FloatProgressModel",
      "state": {
       "_dom_classes": [],
       "_model_module": "@jupyter-widgets/controls",
       "_model_module_version": "1.5.0",
       "_model_name": "FloatProgressModel",
       "_view_count": null,
       "_view_module": "@jupyter-widgets/controls",
       "_view_module_version": "1.5.0",
       "_view_name": "ProgressView",
       "bar_style": "success",
       "description": "",
       "description_tooltip": null,
       "layout": "IPY_MODEL_f45133f7dd114f0f975267e07a78f09f",
       "max": 231508.0,
       "min": 0.0,
       "orientation": "horizontal",
       "style": "IPY_MODEL_f0433d365705499aaa2c89c47911933c",
       "value": 231508.0
      }
     },
     "949e11da67794fd4b5712ebdad587619": {
      "model_module": "@jupyter-widgets/base",
      "model_module_version": "1.2.0",
      "model_name": "LayoutModel",
      "state": {
       "_model_module": "@jupyter-widgets/base",
       "_model_module_version": "1.2.0",
       "_model_name": "LayoutModel",
       "_view_count": null,
       "_view_module": "@jupyter-widgets/base",
       "_view_module_version": "1.2.0",
       "_view_name": "LayoutView",
       "align_content": null,
       "align_items": null,
       "align_self": null,
       "border": null,
       "bottom": null,
       "display": null,
       "flex": null,
       "flex_flow": null,
       "grid_area": null,
       "grid_auto_columns": null,
       "grid_auto_flow": null,
       "grid_auto_rows": null,
       "grid_column": null,
       "grid_gap": null,
       "grid_row": null,
       "grid_template_areas": null,
       "grid_template_columns": null,
       "grid_template_rows": null,
       "height": null,
       "justify_content": null,
       "justify_items": null,
       "left": null,
       "margin": null,
       "max_height": null,
       "max_width": null,
       "min_height": null,
       "min_width": null,
       "object_fit": null,
       "object_position": null,
       "order": null,
       "overflow": null,
       "overflow_x": null,
       "overflow_y": null,
       "padding": null,
       "right": null,
       "top": null,
       "visibility": null,
       "width": null
      }
     },
     "9b2853bc7f9a4aeca8f49657d214aaaa": {
      "model_module": "@jupyter-widgets/base",
      "model_module_version": "1.2.0",
      "model_name": "LayoutModel",
      "state": {
       "_model_module": "@jupyter-widgets/base",
       "_model_module_version": "1.2.0",
       "_model_name": "LayoutModel",
       "_view_count": null,
       "_view_module": "@jupyter-widgets/base",
       "_view_module_version": "1.2.0",
       "_view_name": "LayoutView",
       "align_content": null,
       "align_items": null,
       "align_self": null,
       "border": null,
       "bottom": null,
       "display": null,
       "flex": null,
       "flex_flow": null,
       "grid_area": null,
       "grid_auto_columns": null,
       "grid_auto_flow": null,
       "grid_auto_rows": null,
       "grid_column": null,
       "grid_gap": null,
       "grid_row": null,
       "grid_template_areas": null,
       "grid_template_columns": null,
       "grid_template_rows": null,
       "height": null,
       "justify_content": null,
       "justify_items": null,
       "left": null,
       "margin": null,
       "max_height": null,
       "max_width": null,
       "min_height": null,
       "min_width": null,
       "object_fit": null,
       "object_position": null,
       "order": null,
       "overflow": null,
       "overflow_x": null,
       "overflow_y": null,
       "padding": null,
       "right": null,
       "top": null,
       "visibility": null,
       "width": null
      }
     },
     "9dac7553d95a4b01b559d034bfaddab4": {
      "model_module": "@jupyter-widgets/base",
      "model_module_version": "1.2.0",
      "model_name": "LayoutModel",
      "state": {
       "_model_module": "@jupyter-widgets/base",
       "_model_module_version": "1.2.0",
       "_model_name": "LayoutModel",
       "_view_count": null,
       "_view_module": "@jupyter-widgets/base",
       "_view_module_version": "1.2.0",
       "_view_name": "LayoutView",
       "align_content": null,
       "align_items": null,
       "align_self": null,
       "border": null,
       "bottom": null,
       "display": null,
       "flex": null,
       "flex_flow": null,
       "grid_area": null,
       "grid_auto_columns": null,
       "grid_auto_flow": null,
       "grid_auto_rows": null,
       "grid_column": null,
       "grid_gap": null,
       "grid_row": null,
       "grid_template_areas": null,
       "grid_template_columns": null,
       "grid_template_rows": null,
       "height": null,
       "justify_content": null,
       "justify_items": null,
       "left": null,
       "margin": null,
       "max_height": null,
       "max_width": null,
       "min_height": null,
       "min_width": null,
       "object_fit": null,
       "object_position": null,
       "order": null,
       "overflow": null,
       "overflow_x": null,
       "overflow_y": null,
       "padding": null,
       "right": null,
       "top": null,
       "visibility": null,
       "width": null
      }
     },
     "a3421c5f709d45e5aa2f9ae43b7ddb76": {
      "model_module": "@jupyter-widgets/base",
      "model_module_version": "1.2.0",
      "model_name": "LayoutModel",
      "state": {
       "_model_module": "@jupyter-widgets/base",
       "_model_module_version": "1.2.0",
       "_model_name": "LayoutModel",
       "_view_count": null,
       "_view_module": "@jupyter-widgets/base",
       "_view_module_version": "1.2.0",
       "_view_name": "LayoutView",
       "align_content": null,
       "align_items": null,
       "align_self": null,
       "border": null,
       "bottom": null,
       "display": null,
       "flex": null,
       "flex_flow": null,
       "grid_area": null,
       "grid_auto_columns": null,
       "grid_auto_flow": null,
       "grid_auto_rows": null,
       "grid_column": null,
       "grid_gap": null,
       "grid_row": null,
       "grid_template_areas": null,
       "grid_template_columns": null,
       "grid_template_rows": null,
       "height": null,
       "justify_content": null,
       "justify_items": null,
       "left": null,
       "margin": null,
       "max_height": null,
       "max_width": null,
       "min_height": null,
       "min_width": null,
       "object_fit": null,
       "object_position": null,
       "order": null,
       "overflow": null,
       "overflow_x": null,
       "overflow_y": null,
       "padding": null,
       "right": null,
       "top": null,
       "visibility": null,
       "width": null
      }
     },
     "af03b970d452440ca529b4ef2c658d91": {
      "model_module": "@jupyter-widgets/base",
      "model_module_version": "1.2.0",
      "model_name": "LayoutModel",
      "state": {
       "_model_module": "@jupyter-widgets/base",
       "_model_module_version": "1.2.0",
       "_model_name": "LayoutModel",
       "_view_count": null,
       "_view_module": "@jupyter-widgets/base",
       "_view_module_version": "1.2.0",
       "_view_name": "LayoutView",
       "align_content": null,
       "align_items": null,
       "align_self": null,
       "border": null,
       "bottom": null,
       "display": null,
       "flex": null,
       "flex_flow": null,
       "grid_area": null,
       "grid_auto_columns": null,
       "grid_auto_flow": null,
       "grid_auto_rows": null,
       "grid_column": null,
       "grid_gap": null,
       "grid_row": null,
       "grid_template_areas": null,
       "grid_template_columns": null,
       "grid_template_rows": null,
       "height": null,
       "justify_content": null,
       "justify_items": null,
       "left": null,
       "margin": null,
       "max_height": null,
       "max_width": null,
       "min_height": null,
       "min_width": null,
       "object_fit": null,
       "object_position": null,
       "order": null,
       "overflow": null,
       "overflow_x": null,
       "overflow_y": null,
       "padding": null,
       "right": null,
       "top": null,
       "visibility": null,
       "width": null
      }
     },
     "b5cca3cf8005441d8d9ba65e6125013d": {
      "model_module": "@jupyter-widgets/controls",
      "model_module_version": "1.5.0",
      "model_name": "ProgressStyleModel",
      "state": {
       "_model_module": "@jupyter-widgets/controls",
       "_model_module_version": "1.5.0",
       "_model_name": "ProgressStyleModel",
       "_view_count": null,
       "_view_module": "@jupyter-widgets/base",
       "_view_module_version": "1.2.0",
       "_view_name": "StyleView",
       "bar_color": null,
       "description_width": ""
      }
     },
     "bb1f2e58493648a4812b4d45227a04c7": {
      "model_module": "@jupyter-widgets/base",
      "model_module_version": "1.2.0",
      "model_name": "LayoutModel",
      "state": {
       "_model_module": "@jupyter-widgets/base",
       "_model_module_version": "1.2.0",
       "_model_name": "LayoutModel",
       "_view_count": null,
       "_view_module": "@jupyter-widgets/base",
       "_view_module_version": "1.2.0",
       "_view_name": "LayoutView",
       "align_content": null,
       "align_items": null,
       "align_self": null,
       "border": null,
       "bottom": null,
       "display": null,
       "flex": null,
       "flex_flow": null,
       "grid_area": null,
       "grid_auto_columns": null,
       "grid_auto_flow": null,
       "grid_auto_rows": null,
       "grid_column": null,
       "grid_gap": null,
       "grid_row": null,
       "grid_template_areas": null,
       "grid_template_columns": null,
       "grid_template_rows": null,
       "height": null,
       "justify_content": null,
       "justify_items": null,
       "left": null,
       "margin": null,
       "max_height": null,
       "max_width": null,
       "min_height": null,
       "min_width": null,
       "object_fit": null,
       "object_position": null,
       "order": null,
       "overflow": null,
       "overflow_x": null,
       "overflow_y": null,
       "padding": null,
       "right": null,
       "top": null,
       "visibility": null,
       "width": null
      }
     },
     "bd32ee8ea39243828dd5488820f062d8": {
      "model_module": "@jupyter-widgets/controls",
      "model_module_version": "1.5.0",
      "model_name": "ProgressStyleModel",
      "state": {
       "_model_module": "@jupyter-widgets/controls",
       "_model_module_version": "1.5.0",
       "_model_name": "ProgressStyleModel",
       "_view_count": null,
       "_view_module": "@jupyter-widgets/base",
       "_view_module_version": "1.2.0",
       "_view_name": "StyleView",
       "bar_color": null,
       "description_width": ""
      }
     },
     "bd9a047fadc5425faf901c68af929505": {
      "model_module": "@jupyter-widgets/controls",
      "model_module_version": "1.5.0",
      "model_name": "HTMLModel",
      "state": {
       "_dom_classes": [],
       "_model_module": "@jupyter-widgets/controls",
       "_model_module_version": "1.5.0",
       "_model_name": "HTMLModel",
       "_view_count": null,
       "_view_module": "@jupyter-widgets/controls",
       "_view_module_version": "1.5.0",
       "_view_name": "HTMLView",
       "description": "",
       "description_tooltip": null,
       "layout": "IPY_MODEL_4b6090373c7f4c48b2a3a2d5459aa8df",
       "placeholder": "​",
       "style": "IPY_MODEL_7b1abf6158d14990af38f358d9930897",
       "value": "model.safetensors: 100%"
      }
     },
     "c19663eeac854e5ebf098d12c1f0eda0": {
      "model_module": "@jupyter-widgets/controls",
      "model_module_version": "1.5.0",
      "model_name": "HTMLModel",
      "state": {
       "_dom_classes": [],
       "_model_module": "@jupyter-widgets/controls",
       "_model_module_version": "1.5.0",
       "_model_name": "HTMLModel",
       "_view_count": null,
       "_view_module": "@jupyter-widgets/controls",
       "_view_module_version": "1.5.0",
       "_view_name": "HTMLView",
       "description": "",
       "description_tooltip": null,
       "layout": "IPY_MODEL_7a4b196ea9ff48298af8ff496e192eb1",
       "placeholder": "​",
       "style": "IPY_MODEL_e74bf7cce0174a33b330187c2dbb5d75",
       "value": " 48.0/48.0 [00:00&lt;00:00, 4.09kB/s]"
      }
     },
     "c2d4a306baa547809160c0e389f4efa7": {
      "model_module": "@jupyter-widgets/controls",
      "model_module_version": "1.5.0",
      "model_name": "DescriptionStyleModel",
      "state": {
       "_model_module": "@jupyter-widgets/controls",
       "_model_module_version": "1.5.0",
       "_model_name": "DescriptionStyleModel",
       "_view_count": null,
       "_view_module": "@jupyter-widgets/base",
       "_view_module_version": "1.2.0",
       "_view_name": "StyleView",
       "description_width": ""
      }
     },
     "ca47d07ca98f4094aa7f310acd231e72": {
      "model_module": "@jupyter-widgets/base",
      "model_module_version": "1.2.0",
      "model_name": "LayoutModel",
      "state": {
       "_model_module": "@jupyter-widgets/base",
       "_model_module_version": "1.2.0",
       "_model_name": "LayoutModel",
       "_view_count": null,
       "_view_module": "@jupyter-widgets/base",
       "_view_module_version": "1.2.0",
       "_view_name": "LayoutView",
       "align_content": null,
       "align_items": null,
       "align_self": null,
       "border": null,
       "bottom": null,
       "display": null,
       "flex": null,
       "flex_flow": null,
       "grid_area": null,
       "grid_auto_columns": null,
       "grid_auto_flow": null,
       "grid_auto_rows": null,
       "grid_column": null,
       "grid_gap": null,
       "grid_row": null,
       "grid_template_areas": null,
       "grid_template_columns": null,
       "grid_template_rows": null,
       "height": null,
       "justify_content": null,
       "justify_items": null,
       "left": null,
       "margin": null,
       "max_height": null,
       "max_width": null,
       "min_height": null,
       "min_width": null,
       "object_fit": null,
       "object_position": null,
       "order": null,
       "overflow": null,
       "overflow_x": null,
       "overflow_y": null,
       "padding": null,
       "right": null,
       "top": null,
       "visibility": null,
       "width": null
      }
     },
     "ce73564c730b48618518cc7a83396cdc": {
      "model_module": "@jupyter-widgets/controls",
      "model_module_version": "1.5.0",
      "model_name": "HBoxModel",
      "state": {
       "_dom_classes": [],
       "_model_module": "@jupyter-widgets/controls",
       "_model_module_version": "1.5.0",
       "_model_name": "HBoxModel",
       "_view_count": null,
       "_view_module": "@jupyter-widgets/controls",
       "_view_module_version": "1.5.0",
       "_view_name": "HBoxView",
       "box_style": "",
       "children": [
        "IPY_MODEL_527cc2b2af044ca7941b0b4f7b4a624f",
        "IPY_MODEL_054bd49d9e5a4bb5901bdfb49a0fc4ff",
        "IPY_MODEL_165970d4497f4b4fbd5f6d9e2dde772f"
       ],
       "layout": "IPY_MODEL_fe139a9bbf794c7c89bc5b6b3e8b59cd"
      }
     },
     "cf41e138df964e7b9cdc58a0fa965721": {
      "model_module": "@jupyter-widgets/controls",
      "model_module_version": "1.5.0",
      "model_name": "ProgressStyleModel",
      "state": {
       "_model_module": "@jupyter-widgets/controls",
       "_model_module_version": "1.5.0",
       "_model_name": "ProgressStyleModel",
       "_view_count": null,
       "_view_module": "@jupyter-widgets/base",
       "_view_module_version": "1.2.0",
       "_view_name": "StyleView",
       "bar_color": null,
       "description_width": ""
      }
     },
     "dce1a4712c6c4c8c8d7e45ac71c7df03": {
      "model_module": "@jupyter-widgets/controls",
      "model_module_version": "1.5.0",
      "model_name": "FloatProgressModel",
      "state": {
       "_dom_classes": [],
       "_model_module": "@jupyter-widgets/controls",
       "_model_module_version": "1.5.0",
       "_model_name": "FloatProgressModel",
       "_view_count": null,
       "_view_module": "@jupyter-widgets/controls",
       "_view_module_version": "1.5.0",
       "_view_name": "ProgressView",
       "bar_style": "success",
       "description": "",
       "description_tooltip": null,
       "layout": "IPY_MODEL_409e3f6bb1554143917af757bc6adcbe",
       "max": 466062.0,
       "min": 0.0,
       "orientation": "horizontal",
       "style": "IPY_MODEL_b5cca3cf8005441d8d9ba65e6125013d",
       "value": 466062.0
      }
     },
     "ddec556202c2481899c6f98362c8b36d": {
      "model_module": "@jupyter-widgets/controls",
      "model_module_version": "1.5.0",
      "model_name": "HBoxModel",
      "state": {
       "_dom_classes": [],
       "_model_module": "@jupyter-widgets/controls",
       "_model_module_version": "1.5.0",
       "_model_name": "HBoxModel",
       "_view_count": null,
       "_view_module": "@jupyter-widgets/controls",
       "_view_module_version": "1.5.0",
       "_view_name": "HBoxView",
       "box_style": "",
       "children": [
        "IPY_MODEL_bd9a047fadc5425faf901c68af929505",
        "IPY_MODEL_2163e8d03c3c4db0a1882c1e56c666d9",
        "IPY_MODEL_03d7d9598a9c4a3abda4ca986509fcf5"
       ],
       "layout": "IPY_MODEL_2579210b393b4cf8a64e17d076b1bae2"
      }
     },
     "e74bf7cce0174a33b330187c2dbb5d75": {
      "model_module": "@jupyter-widgets/controls",
      "model_module_version": "1.5.0",
      "model_name": "DescriptionStyleModel",
      "state": {
       "_model_module": "@jupyter-widgets/controls",
       "_model_module_version": "1.5.0",
       "_model_name": "DescriptionStyleModel",
       "_view_count": null,
       "_view_module": "@jupyter-widgets/base",
       "_view_module_version": "1.2.0",
       "_view_name": "StyleView",
       "description_width": ""
      }
     },
     "f02b2fd473254641a9dfc034e416cc11": {
      "model_module": "@jupyter-widgets/controls",
      "model_module_version": "1.5.0",
      "model_name": "ProgressStyleModel",
      "state": {
       "_model_module": "@jupyter-widgets/controls",
       "_model_module_version": "1.5.0",
       "_model_name": "ProgressStyleModel",
       "_view_count": null,
       "_view_module": "@jupyter-widgets/base",
       "_view_module_version": "1.2.0",
       "_view_name": "StyleView",
       "bar_color": null,
       "description_width": ""
      }
     },
     "f0433d365705499aaa2c89c47911933c": {
      "model_module": "@jupyter-widgets/controls",
      "model_module_version": "1.5.0",
      "model_name": "ProgressStyleModel",
      "state": {
       "_model_module": "@jupyter-widgets/controls",
       "_model_module_version": "1.5.0",
       "_model_name": "ProgressStyleModel",
       "_view_count": null,
       "_view_module": "@jupyter-widgets/base",
       "_view_module_version": "1.2.0",
       "_view_name": "StyleView",
       "bar_color": null,
       "description_width": ""
      }
     },
     "f2d3506a83414fdf9ce22d43cc626762": {
      "model_module": "@jupyter-widgets/controls",
      "model_module_version": "1.5.0",
      "model_name": "DescriptionStyleModel",
      "state": {
       "_model_module": "@jupyter-widgets/controls",
       "_model_module_version": "1.5.0",
       "_model_name": "DescriptionStyleModel",
       "_view_count": null,
       "_view_module": "@jupyter-widgets/base",
       "_view_module_version": "1.2.0",
       "_view_name": "StyleView",
       "description_width": ""
      }
     },
     "f45133f7dd114f0f975267e07a78f09f": {
      "model_module": "@jupyter-widgets/base",
      "model_module_version": "1.2.0",
      "model_name": "LayoutModel",
      "state": {
       "_model_module": "@jupyter-widgets/base",
       "_model_module_version": "1.2.0",
       "_model_name": "LayoutModel",
       "_view_count": null,
       "_view_module": "@jupyter-widgets/base",
       "_view_module_version": "1.2.0",
       "_view_name": "LayoutView",
       "align_content": null,
       "align_items": null,
       "align_self": null,
       "border": null,
       "bottom": null,
       "display": null,
       "flex": null,
       "flex_flow": null,
       "grid_area": null,
       "grid_auto_columns": null,
       "grid_auto_flow": null,
       "grid_auto_rows": null,
       "grid_column": null,
       "grid_gap": null,
       "grid_row": null,
       "grid_template_areas": null,
       "grid_template_columns": null,
       "grid_template_rows": null,
       "height": null,
       "justify_content": null,
       "justify_items": null,
       "left": null,
       "margin": null,
       "max_height": null,
       "max_width": null,
       "min_height": null,
       "min_width": null,
       "object_fit": null,
       "object_position": null,
       "order": null,
       "overflow": null,
       "overflow_x": null,
       "overflow_y": null,
       "padding": null,
       "right": null,
       "top": null,
       "visibility": null,
       "width": null
      }
     },
     "fe139a9bbf794c7c89bc5b6b3e8b59cd": {
      "model_module": "@jupyter-widgets/base",
      "model_module_version": "1.2.0",
      "model_name": "LayoutModel",
      "state": {
       "_model_module": "@jupyter-widgets/base",
       "_model_module_version": "1.2.0",
       "_model_name": "LayoutModel",
       "_view_count": null,
       "_view_module": "@jupyter-widgets/base",
       "_view_module_version": "1.2.0",
       "_view_name": "LayoutView",
       "align_content": null,
       "align_items": null,
       "align_self": null,
       "border": null,
       "bottom": null,
       "display": null,
       "flex": null,
       "flex_flow": null,
       "grid_area": null,
       "grid_auto_columns": null,
       "grid_auto_flow": null,
       "grid_auto_rows": null,
       "grid_column": null,
       "grid_gap": null,
       "grid_row": null,
       "grid_template_areas": null,
       "grid_template_columns": null,
       "grid_template_rows": null,
       "height": null,
       "justify_content": null,
       "justify_items": null,
       "left": null,
       "margin": null,
       "max_height": null,
       "max_width": null,
       "min_height": null,
       "min_width": null,
       "object_fit": null,
       "object_position": null,
       "order": null,
       "overflow": null,
       "overflow_x": null,
       "overflow_y": null,
       "padding": null,
       "right": null,
       "top": null,
       "visibility": null,
       "width": null
      }
     }
    },
    "version_major": 2,
    "version_minor": 0
   }
  }
 },
 "nbformat": 4,
 "nbformat_minor": 5
}
